{
  "nbformat": 4,
  "nbformat_minor": 0,
  "metadata": {
    "colab": {
      "provenance": [],
      "authorship_tag": "ABX9TyPjxVMjmFybDe5tT0E8qqiP",
      "include_colab_link": true
    },
    "kernelspec": {
      "name": "python3",
      "display_name": "Python 3"
    },
    "language_info": {
      "name": "python"
    }
  },
  "cells": [
    {
      "cell_type": "markdown",
      "metadata": {
        "id": "view-in-github",
        "colab_type": "text"
      },
      "source": [
        "<a href=\"https://colab.research.google.com/github/cifa17/python/blob/main/liste.ipynb\" target=\"_parent\"><img src=\"https://colab.research.google.com/assets/colab-badge.svg\" alt=\"Open In Colab\"/></a>"
      ]
    },
    {
      "cell_type": "markdown",
      "source": [
        "Esercizio 1\n",
        "Creare una lista vuota assegnarla a una variabilee stamparla."
      ],
      "metadata": {
        "id": "n3QUjMcnDt9B"
      }
    },
    {
      "cell_type": "code",
      "execution_count": 3,
      "metadata": {
        "colab": {
          "base_uri": "https://localhost:8080/"
        },
        "id": "w2CKgc2TDgrJ",
        "outputId": "07000d16-d421-4fba-d6d0-4da8f047f47e"
      },
      "outputs": [
        {
          "output_type": "stream",
          "name": "stdout",
          "text": [
            "[]\n"
          ]
        }
      ],
      "source": [
        "lista=[]\n",
        "var=lista\n",
        "print(var)"
      ]
    },
    {
      "cell_type": "code",
      "source": [
        "lista=[]\n",
        "print(lista)"
      ],
      "metadata": {
        "colab": {
          "base_uri": "https://localhost:8080/"
        },
        "id": "VDDCkMzUEyQF",
        "outputId": "7dd3940e-818c-4e5e-f545-3a66e772e789"
      },
      "execution_count": 7,
      "outputs": [
        {
          "output_type": "stream",
          "name": "stdout",
          "text": [
            "[]\n"
          ]
        }
      ]
    },
    {
      "cell_type": "markdown",
      "source": [
        "Esercizio 2\n",
        "Creare una lista di numeri interi da 1 a 5 e assegnarla a una variabile e stamparla."
      ],
      "metadata": {
        "id": "9JagKe8JETt_"
      }
    },
    {
      "cell_type": "code",
      "source": [
        "lista=[1,2,3,4,5]\n",
        "var=lista\n",
        "print(var)"
      ],
      "metadata": {
        "colab": {
          "base_uri": "https://localhost:8080/"
        },
        "id": "YkcKB-eXE3fe",
        "outputId": "68bb72bb-ef1d-4cec-ea42-7e253ba94b50"
      },
      "execution_count": 8,
      "outputs": [
        {
          "output_type": "stream",
          "name": "stdout",
          "text": [
            "[1, 2, 3, 4, 5]\n"
          ]
        }
      ]
    },
    {
      "cell_type": "code",
      "source": [
        "lista=[1,2,3,4,5]\n",
        "print(lista)"
      ],
      "metadata": {
        "colab": {
          "base_uri": "https://localhost:8080/"
        },
        "id": "lPYWimhFEUek",
        "outputId": "55a28d13-a9a0-425d-823e-b6b321510194"
      },
      "execution_count": 6,
      "outputs": [
        {
          "output_type": "stream",
          "name": "stdout",
          "text": [
            "[1, 2, 3, 4, 5]\n"
          ]
        }
      ]
    },
    {
      "cell_type": "markdown",
      "source": [
        "Esercizio 3\n",
        "Accedere all'elemento con indice 2 della lista precedente."
      ],
      "metadata": {
        "id": "xgca6g3bFHB5"
      }
    },
    {
      "cell_type": "code",
      "source": [
        "lista[2]"
      ],
      "metadata": {
        "colab": {
          "base_uri": "https://localhost:8080/"
        },
        "id": "ytOQ_MhzFIBp",
        "outputId": "4212034f-73e5-4047-fbf9-fb6c1aae7fa8"
      },
      "execution_count": 9,
      "outputs": [
        {
          "output_type": "execute_result",
          "data": {
            "text/plain": [
              "3"
            ]
          },
          "metadata": {},
          "execution_count": 9
        }
      ]
    },
    {
      "cell_type": "markdown",
      "source": [
        "Esercizio 4\n",
        "Aggiungere un nuovo elemento \"6\" alla lista precedente."
      ],
      "metadata": {
        "id": "miPIOvwEFpK9"
      }
    },
    {
      "cell_type": "code",
      "source": [
        "lista.append(6)\n",
        "print(lista)"
      ],
      "metadata": {
        "colab": {
          "base_uri": "https://localhost:8080/"
        },
        "id": "m3Mtl1CKFp0b",
        "outputId": "dddc97c8-09ed-425e-e4c9-ab04f648bd8c"
      },
      "execution_count": 10,
      "outputs": [
        {
          "output_type": "stream",
          "name": "stdout",
          "text": [
            "[1, 2, 3, 4, 5, 6]\n"
          ]
        }
      ]
    },
    {
      "cell_type": "markdown",
      "source": [
        "Esercizio 5\n",
        "Rimuovere l'elemento con indice 3 dalla lista precedente."
      ],
      "metadata": {
        "id": "UL5y3jTMGDVm"
      }
    },
    {
      "cell_type": "code",
      "source": [
        "lista.pop(3)\n",
        "lista"
      ],
      "metadata": {
        "colab": {
          "base_uri": "https://localhost:8080/"
        },
        "id": "hUkDXuFaGKq6",
        "outputId": "e0ee2284-aac9-4789-cb4f-a35a73439712"
      },
      "execution_count": 11,
      "outputs": [
        {
          "output_type": "execute_result",
          "data": {
            "text/plain": [
              "[1, 2, 3, 5, 6]"
            ]
          },
          "metadata": {},
          "execution_count": 11
        }
      ]
    },
    {
      "cell_type": "code",
      "source": [
        "del lista[3]\n",
        "lista"
      ],
      "metadata": {
        "colab": {
          "base_uri": "https://localhost:8080/"
        },
        "id": "z8vVMqKBGyR-",
        "outputId": "309a22a6-0047-4a63-ae50-ccc727535372"
      },
      "execution_count": 13,
      "outputs": [
        {
          "output_type": "execute_result",
          "data": {
            "text/plain": [
              "[1, 2, 5]"
            ]
          },
          "metadata": {},
          "execution_count": 13
        }
      ]
    },
    {
      "cell_type": "code",
      "source": [
        "lista.remove(3) #ti elimina l'elemeno 3 non l'elemento all'indice 3 della lista\n",
        "lista"
      ],
      "metadata": {
        "colab": {
          "base_uri": "https://localhost:8080/"
        },
        "id": "xWAvUVu_GqZt",
        "outputId": "c5dabad1-1484-4749-be52-f80418be4fc6"
      },
      "execution_count": 12,
      "outputs": [
        {
          "output_type": "execute_result",
          "data": {
            "text/plain": [
              "[1, 2, 5, 6]"
            ]
          },
          "metadata": {},
          "execution_count": 12
        }
      ]
    },
    {
      "cell_type": "markdown",
      "source": [
        "Esercizio 6\n",
        "Creare una nuova lista che contenga solo i primi tre elementi della lista precedente."
      ],
      "metadata": {
        "id": "liIk8wvdH2Dd"
      }
    },
    {
      "cell_type": "code",
      "source": [
        "lista2 = lista[:3] # slice\n",
        "print(lista2)"
      ],
      "metadata": {
        "colab": {
          "base_uri": "https://localhost:8080/"
        },
        "id": "uUyE0vkRH279",
        "outputId": "b49869e0-04e1-4933-c5b8-0da037ae479a"
      },
      "execution_count": 21,
      "outputs": [
        {
          "output_type": "stream",
          "name": "stdout",
          "text": [
            "[1, 2, 3]\n"
          ]
        }
      ]
    },
    {
      "cell_type": "markdown",
      "source": [
        "Esercizio 7\n",
        "Creare una nuova lista che contenga gli elementi con indici dispari della lista precedente."
      ],
      "metadata": {
        "id": "l1J7NmpTIhAw"
      }
    },
    {
      "cell_type": "code",
      "source": [
        "lista=[1,2,3,4,5,6,7,8,9,10]\n",
        "lista_dispari = lista[1::2]\n",
        "print(lista_dispari)"
      ],
      "metadata": {
        "colab": {
          "base_uri": "https://localhost:8080/"
        },
        "id": "YTwPFFviIlNS",
        "outputId": "c5ca07b4-9cb6-4257-a061-b37f2114dd43"
      },
      "execution_count": 22,
      "outputs": [
        {
          "output_type": "stream",
          "name": "stdout",
          "text": [
            "[2, 4, 6, 8, 10]\n"
          ]
        }
      ]
    },
    {
      "cell_type": "markdown",
      "source": [
        "Esercizio 8\n",
        "Ordinare la lista precedente in ordine decrescente."
      ],
      "metadata": {
        "id": "FlZFKgGvLHlM"
      }
    },
    {
      "cell_type": "code",
      "source": [
        "lista = [32,12,4,77,54,3]\n",
        "print(lista)\n",
        "lista.sort(reverse=True)\n",
        "print(lista)"
      ],
      "metadata": {
        "colab": {
          "base_uri": "https://localhost:8080/"
        },
        "id": "jJbcyEf0LIQY",
        "outputId": "bc6724f8-7a23-40a1-f07a-117884ba931a"
      },
      "execution_count": 24,
      "outputs": [
        {
          "output_type": "stream",
          "name": "stdout",
          "text": [
            "[32, 12, 4, 77, 54, 3]\n",
            "[77, 54, 32, 12, 4, 3]\n"
          ]
        }
      ]
    },
    {
      "cell_type": "markdown",
      "source": [
        "Esercizio 9\n",
        "Contare quante volte l'elemento \"2\" appare nella lista."
      ],
      "metadata": {
        "id": "betXf1K-LqHu"
      }
    },
    {
      "cell_type": "code",
      "source": [
        "lista = [1,2,3,4,5,6,7,8,9,10]\n",
        "lista.sort(reverse=True)\n",
        "print(lista)\n",
        "print(lista.count(2))"
      ],
      "metadata": {
        "colab": {
          "base_uri": "https://localhost:8080/"
        },
        "id": "m_p9JN68LtdM",
        "outputId": "7daa36fa-4604-4516-85f2-e11c76222906"
      },
      "execution_count": 28,
      "outputs": [
        {
          "output_type": "stream",
          "name": "stdout",
          "text": [
            "[10, 9, 8, 7, 6, 5, 4, 3, 2, 1]\n",
            "1\n"
          ]
        }
      ]
    }
  ]
}