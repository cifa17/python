{
  "nbformat": 4,
  "nbformat_minor": 0,
  "metadata": {
    "colab": {
      "provenance": [],
      "authorship_tag": "ABX9TyP9X0+1PnPstsCCehLmZv2m",
      "include_colab_link": true
    },
    "kernelspec": {
      "name": "python3",
      "display_name": "Python 3"
    },
    "language_info": {
      "name": "python"
    }
  },
  "cells": [
    {
      "cell_type": "markdown",
      "metadata": {
        "id": "view-in-github",
        "colab_type": "text"
      },
      "source": [
        "<a href=\"https://colab.research.google.com/github/cifa17/python/blob/main/condizionali.ipynb\" target=\"_parent\"><img src=\"https://colab.research.google.com/assets/colab-badge.svg\" alt=\"Open In Colab\"/></a>"
      ]
    },
    {
      "cell_type": "markdown",
      "source": [
        "Esercizio 1\n",
        "Scrivere un programma che chiede all'utente di inserire un numero e stampa \"Il numero è positivo\" se il numero è maggiore di zero, altrimenti stampa \"Il numero è negativo\""
      ],
      "metadata": {
        "id": "4O7yq6tRQ3J8"
      }
    },
    {
      "cell_type": "code",
      "execution_count": null,
      "metadata": {
        "colab": {
          "base_uri": "https://localhost:8080/"
        },
        "id": "xnk9oZgxQz5x",
        "outputId": "a15db595-7946-44fa-8351-3762fcb9e1eb"
      },
      "outputs": [
        {
          "output_type": "stream",
          "name": "stdout",
          "text": [
            "Inserisci un numero: 2\n",
            "Il numero è positivo\n"
          ]
        }
      ],
      "source": [
        "numero = float(input(\"Inserisci un numero: \"))\n",
        "if numero > 0:\n",
        "    print(\"Il numero è positivo\")\n",
        "else:\n",
        "    print(\"Il numero è negativo\")"
      ]
    },
    {
      "cell_type": "markdown",
      "source": [
        "Esercizio 2\n",
        "Scrivere un programma che chiede all'utente di inserire due numeri e stampa \"Il primo numero è maggiore\" se il primo numero è maggiore del secondo, \"Il secondo numero è maggiore\" se il secondo numero è maggiore del primo, altrimenti stampa \"I numeri sono uguali\"."
      ],
      "metadata": {
        "id": "9guz5HuQRt30"
      }
    },
    {
      "cell_type": "code",
      "source": [
        "n1 = float(input(\"Inserisci il primo numero: \"))\n",
        "n2 = float(input(\"Inserisci il secondo numero: \"))\n",
        "if n1 > n2:\n",
        "    print(\"Il primo numero è maggiore\")\n",
        "elif n1 < n2:\n",
        "    print(\"Il secondo numero è maggiore\")\n",
        "else:\n",
        "    print(\"I numeri sono uguali\")"
      ],
      "metadata": {
        "colab": {
          "base_uri": "https://localhost:8080/"
        },
        "id": "VfP-7WpBRvEU",
        "outputId": "08692e41-c96c-4315-805d-21280d319b62"
      },
      "execution_count": null,
      "outputs": [
        {
          "output_type": "stream",
          "name": "stdout",
          "text": [
            "Inserisci il primo numero: 5\n",
            "Inserisci il secondo numero: 33\n",
            "Il secondo numero è maggiore\n"
          ]
        }
      ]
    },
    {
      "cell_type": "markdown",
      "source": [
        "Dati tre numeri da input, trovare il maggiore tra i tre."
      ],
      "metadata": {
        "id": "JLvm4vwXSFPp"
      }
    },
    {
      "cell_type": "code",
      "source": [
        "n1 = float(input(\"Inserisci il primo numero: \"))\n",
        "n2 = float(input(\"Inserisci il secondo numero: \"))\n",
        "n3 = float(input(\"Inserisci il terzo numero: \"))\n",
        "\n",
        "if n1 > n2 and n1 > n3:\n",
        "    print(f\"{n1} è il maggiore\")\n",
        "elif n2 > n1 and n2 > n3:\n",
        "    print(f\"{n2} è il maggiore\")\n",
        "elif n3 > n1 and n3 > n2:\n",
        "    print(f\"{n3} è il maggiore\")\n",
        "elif n1 == n2 and n1 == n3 and n2 == n3:\n",
        "    print(\"I numeri sono uguali\")\n",
        "else:\n",
        "  print(\"non c'e' un numero maggiore ma 2 numeri sono uguali\")"
      ],
      "metadata": {
        "colab": {
          "base_uri": "https://localhost:8080/"
        },
        "id": "FKnfkiHxSnoP",
        "outputId": "e793eb99-5df6-4d5a-e78f-2024fc2e8e27"
      },
      "execution_count": null,
      "outputs": [
        {
          "output_type": "stream",
          "name": "stdout",
          "text": [
            "Inserisci il primo numero: 0\n",
            "Inserisci il secondo numero: 5\n",
            "Inserisci il terzo numero: 5\n",
            "non c'e' un numero maggiore ma 2 numeri sono uguali\n"
          ]
        }
      ]
    },
    {
      "cell_type": "markdown",
      "source": [
        "Esercizio 3\n",
        "Scrivere un programma che chiede all'utente di inserire una stringa e stampa \"La stringa è vuota\" se la stringa è vuota, altrimenti stampa \"La stringa non è vuota\"."
      ],
      "metadata": {
        "id": "82VaIQqAw0zz"
      }
    },
    {
      "cell_type": "code",
      "source": [
        "stringa = input(\"Inserisci una stringa: \")\n",
        "if stringa == \"\":\n",
        "    print(\"La stringa è vuota\")\n",
        "else:\n",
        "    print(\"La stringa non è vuota\")"
      ],
      "metadata": {
        "colab": {
          "base_uri": "https://localhost:8080/"
        },
        "id": "uJWMgqHzw2c7",
        "outputId": "811708b6-c9c4-40af-b2c5-0b1b90362550"
      },
      "execution_count": 2,
      "outputs": [
        {
          "output_type": "stream",
          "name": "stdout",
          "text": [
            "Inserisci una stringa: 7\n",
            "La stringa non è vuota\n"
          ]
        }
      ]
    },
    {
      "cell_type": "code",
      "source": [
        "stringa = input(\"Inserisci una stringa: \")\n",
        "if not stringa:\n",
        "    print(\"La stringa è vuota\")\n",
        "else:\n",
        "    print(\"La stringa non è vuota\")"
      ],
      "metadata": {
        "colab": {
          "base_uri": "https://localhost:8080/"
        },
        "id": "LXdBRcGhxb_a",
        "outputId": "b4986796-a23a-461b-a3b3-2866d5bbbee8"
      },
      "execution_count": 7,
      "outputs": [
        {
          "output_type": "stream",
          "name": "stdout",
          "text": [
            "Inserisci una stringa: 51\n",
            "La stringa non è vuota\n"
          ]
        }
      ]
    },
    {
      "cell_type": "markdown",
      "source": [
        "Esercizio 4\n",
        "Scrivere un programma che chiede all'utente di inserire un numero e stampa \"Il numero è pari\" se il numero è pari, altrimenti stampa \"Il numero è dispari\"."
      ],
      "metadata": {
        "id": "AGpRgsm_xqs8"
      }
    },
    {
      "cell_type": "code",
      "source": [
        "numero = int(input(\"Inserisci un numero: \"))\n",
        "if numero % 2 == 0:\n",
        "    print(\"Il numero è pari\")\n",
        "else:\n",
        "    print(\"Il numero è dispari\")"
      ],
      "metadata": {
        "colab": {
          "base_uri": "https://localhost:8080/"
        },
        "id": "An5DXWKUxvUP",
        "outputId": "1b908837-a830-4e75-e3df-5750957d6842"
      },
      "execution_count": 9,
      "outputs": [
        {
          "output_type": "stream",
          "name": "stdout",
          "text": [
            "Inserisci un numero: 2\n",
            "Il numero è pari\n"
          ]
        }
      ]
    },
    {
      "cell_type": "markdown",
      "source": [
        "Esercizio 5\n",
        "Scrivere un programma che chiede all'utente di inserire una lettera e stampa \"La lettera è una vocale\" se la lettera è una vocale (a, e, i, o, u), altrimenti stampa \"La lettera non è una vocale\"."
      ],
      "metadata": {
        "id": "wcA_WsXRyIM_"
      }
    },
    {
      "cell_type": "code",
      "source": [
        "lettera = input(\"Inserisci una lettera: \")\n",
        "if lettera in \"aeiou\":\n",
        "    print(\"La lettera è una vocale\")\n",
        "else:\n",
        "    print(\"La lettera non è una vocale\")"
      ],
      "metadata": {
        "colab": {
          "base_uri": "https://localhost:8080/"
        },
        "id": "PridBvLvyMmT",
        "outputId": "c5a4df7c-55a7-468b-f032-4bc210ff171f"
      },
      "execution_count": 12,
      "outputs": [
        {
          "name": "stdout",
          "output_type": "stream",
          "text": [
            "Inserisci una lettera: 2\n"
          ]
        }
      ]
    },
    {
      "cell_type": "markdown",
      "source": [
        "Esercizio 6\n",
        "Scrivere un programma che chiede all'utente di inserire un numero e stampa \"Il numero è compreso tra 1 e 10\" se il numero è compreso tra 1 e 10, altrimenti stampa \"Il numero non è compreso tra 1 e 10\"."
      ],
      "metadata": {
        "id": "wv7-9nUjym1u"
      }
    },
    {
      "cell_type": "code",
      "source": [
        "numero = int(input(\"Inserisci un numero: \"))\n",
        "if numero >= 1 and numero <= 10:\n",
        "    print(\"Il numero è compreso tra 1 e 10\")"
      ],
      "metadata": {
        "id": "gA00qDcnyorf"
      },
      "execution_count": null,
      "outputs": []
    },
    {
      "cell_type": "code",
      "source": [
        "numero = int(input(\"Inserisci un numero: \"))\n",
        "\n",
        "if 1 <= numero <= 10: # solo in python\n",
        "  print(\"Il numero è compreso tra 1 e 10\")\n",
        "else:\n",
        "  print(\"Il numero non è compreso tra 1 e 10\")"
      ],
      "metadata": {
        "id": "5n6e7bply4Tz"
      },
      "execution_count": null,
      "outputs": []
    },
    {
      "cell_type": "markdown",
      "source": [
        "Esercizio 7\n",
        "Scrivere un programma che chieda all'utente di inserire un numero intero. Se il numero è maggiore di 10, stampare \"Il numero è maggiore di 10\". Se il numero è uguale a 10, stampare \"Il numero è uguale a 10\". Se il numero è minore di 10, stampare \"Il numero è minore di 10\"."
      ],
      "metadata": {
        "id": "oYJ7tlPDzCrw"
      }
    },
    {
      "cell_type": "code",
      "source": [
        "numero = int(input(\"Inserisci un numero: \"))\n",
        "if numero > 10:\n",
        "    print(\"Il numero è maggiore di 10\")\n",
        "elif numero == 10:\n",
        "    print(\"Il numero è uguale a 10\")\n",
        "else:\n",
        "    print(\"Il numero è minore di 10\")"
      ],
      "metadata": {
        "colab": {
          "base_uri": "https://localhost:8080/"
        },
        "id": "9-9z3UaZzF40",
        "outputId": "14a31091-ce7f-46b2-e130-c1010891a97a"
      },
      "execution_count": 15,
      "outputs": [
        {
          "output_type": "stream",
          "name": "stdout",
          "text": [
            "Inserisci un numero: -546\n",
            "Il numero è minore di 10\n"
          ]
        }
      ]
    },
    {
      "cell_type": "markdown",
      "source": [
        "Esercizio 8\n",
        "Scrivere un programma che chieda all'utente di inserire un carattere. Se il carattere è una vocale (a, e, i, o, u), stampare \"Il carattere inserito è una vocale\". Se il carattere è una consonante isAlpha(), stampare \"Il carattere inserito è una consonante\". Se il carattere non è una lettera, stampare \"Il carattere inserito non è una lettera\"."
      ],
      "metadata": {
        "id": "abJFlR4hzQmO"
      }
    },
    {
      "cell_type": "code",
      "source": [
        "carattere = input(\"Inserisci un carattere: \").lower()\n",
        "if carattere in \"aeiou\":\n",
        "    print(\"Il carattere inserito è una vocale\")\n",
        "elif carattere.isalpha():\n",
        "    print(\"Il carattere inserito è una consonante\")\n",
        "else:\n",
        "    print(\"Il carattere inserito non è una lettera\")"
      ],
      "metadata": {
        "colab": {
          "base_uri": "https://localhost:8080/"
        },
        "id": "-A0gNpEYzTwI",
        "outputId": "d8365b5a-0120-4731-aca2-ce29d8579254"
      },
      "execution_count": 19,
      "outputs": [
        {
          "output_type": "stream",
          "name": "stdout",
          "text": [
            "Inserisci un carattere: '\n",
            "Il carattere inserito non è una lettera\n"
          ]
        }
      ]
    }
  ]
}