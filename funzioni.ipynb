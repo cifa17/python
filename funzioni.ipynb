{
  "nbformat": 4,
  "nbformat_minor": 0,
  "metadata": {
    "colab": {
      "provenance": [],
      "authorship_tag": "ABX9TyN2ia0aoJqX7Wrbla58m21l",
      "include_colab_link": true
    },
    "kernelspec": {
      "name": "python3",
      "display_name": "Python 3"
    },
    "language_info": {
      "name": "python"
    }
  },
  "cells": [
    {
      "cell_type": "markdown",
      "metadata": {
        "id": "view-in-github",
        "colab_type": "text"
      },
      "source": [
        "<a href=\"https://colab.research.google.com/github/cifa17/python/blob/main/funzioni.ipynb\" target=\"_parent\"><img src=\"https://colab.research.google.com/assets/colab-badge.svg\" alt=\"Open In Colab\"/></a>"
      ]
    },
    {
      "cell_type": "markdown",
      "source": [
        "Esercizio 1\n",
        "Scrivi una funzione che prende una lista di numeri e restituisce la somma di tutti gli elementi."
      ],
      "metadata": {
        "id": "YnkFM3z_v_Yd"
      }
    },
    {
      "cell_type": "code",
      "execution_count": 7,
      "metadata": {
        "colab": {
          "base_uri": "https://localhost:8080/"
        },
        "id": "svKkrcWxv8fy",
        "outputId": "660035fc-b4bd-4794-a520-66b8784e0e11"
      },
      "outputs": [
        {
          "output_type": "stream",
          "name": "stdout",
          "text": [
            "Inserisci il numero di elementi nella lista: 3\n",
            "Inserisci il 1° numero: 1\n",
            "Inserisci il 2° numero: 2\n",
            "Inserisci il 3° numero: 5\n",
            "questi sono gli elementi della lista: [1, 2, 5]\n",
            "la somma della lista e': 8\n"
          ]
        }
      ],
      "source": [
        "lista = []\n",
        "n = int(input(\"Inserisci il numero di elementi nella lista: \"))\n",
        "while n <= 0:\n",
        "    n = int(input(\"Inserisci il numero valido: \"))\n",
        "for i in range(n):\n",
        "    numero = int(input(f\"Inserisci il {i+1}° numero: \"))\n",
        "    lista.append(numero)\n",
        "print(f\"questi sono gli elementi della lista: {lista}\")\n",
        "def somma_lista(lista):\n",
        "    somma = 0\n",
        "    for numero in lista:\n",
        "        somma += numero\n",
        "    return somma\n",
        "print(f\"la somma della lista e': {somma_lista(lista)}\")"
      ]
    },
    {
      "cell_type": "markdown",
      "source": [
        "Esercizio 2\n",
        "Scrivi una funzione che prende una stringa e restituisce la stringa invertita."
      ],
      "metadata": {
        "id": "_Jvl5-rYxqIL"
      }
    },
    {
      "cell_type": "code",
      "source": [
        "def inverti_stringa(stringa):\n",
        "    invertita = \"\"\n",
        "    for i in range(len(stringa)-1, -1, -1):\n",
        "        invertita += stringa[i]\n",
        "    return invertita\n",
        "\n",
        "stringa = input(\"Inserisci una stringa: \")\n",
        "print(f\"la stringa invertita e': {inverti_stringa(stringa)}\")"
      ],
      "metadata": {
        "colab": {
          "base_uri": "https://localhost:8080/"
        },
        "id": "GZUvcEjxxteA",
        "outputId": "b253360b-9004-4144-85e3-e7de179bec0b"
      },
      "execution_count": 8,
      "outputs": [
        {
          "output_type": "stream",
          "name": "stdout",
          "text": [
            "Inserisci una stringa: ciao\n",
            "la stringa invertita e': oaic\n"
          ]
        }
      ]
    },
    {
      "cell_type": "markdown",
      "source": [
        "Esercizio 3\n",
        "Scrivi una funzione che prende una lista di parole e restituisce una lista contenente solo le parole che iniziano con una lettera specificata."
      ],
      "metadata": {
        "id": "0JdjfM-dx_Ok"
      }
    },
    {
      "cell_type": "code",
      "source": [
        "def filtra_parole(lista_parole, lettera):\n",
        "    risultato = []\n",
        "    for parola in lista_parole:\n",
        "        if parola[0] == lettera: # oppure if parola.startswith(lettera):\n",
        "            risultato.append(parola)\n",
        "    return risultato\n",
        "\n",
        "lista_parole = list(input(\"Inserisci una lista di parole separate da uno spazio: \").split())\n",
        "lettera = input(\"Inserisci una lettera: \")\n",
        "print(f\"le parole che iniziano con la lettera {lettera} sono: {filtra_parole(lista_parole, lettera)}\")"
      ],
      "metadata": {
        "colab": {
          "base_uri": "https://localhost:8080/"
        },
        "id": "gn7hg_ZUyBPr",
        "outputId": "5e1ba0a6-1dfa-44e4-fa03-8d05d23c2c8e"
      },
      "execution_count": 14,
      "outputs": [
        {
          "output_type": "stream",
          "name": "stdout",
          "text": [
            "Inserisci una lista di parole separate da uno spazio: mela pera limone lime\n",
            "Inserisci una lettera: l\n",
            "le parole che iniziano con la lettera l sono: ['limone', 'lime']\n"
          ]
        }
      ]
    },
    {
      "cell_type": "markdown",
      "source": [
        "Esercizio 4\n",
        "Scrivi una funzione che prende una lista di numeri e restituisce una lista contenente solo i numeri pari."
      ],
      "metadata": {
        "id": "iwdg0aSS1OH8"
      }
    },
    {
      "cell_type": "code",
      "source": [
        "def numeri_pari(lista):\n",
        "  lista_pari=[]\n",
        "  for e in lista:\n",
        "    if e%2 == 0:\n",
        "      lista_pari.append(e)\n",
        "  return lista_pari\n",
        "\n",
        "lista = list(map(int, input(\"Inserisci una lista di numeri separati da uno spazio: \").split()))\n",
        "print(f\"la lista dei numeri pari e': {numeri_pari(lista)}\")"
      ],
      "metadata": {
        "colab": {
          "base_uri": "https://localhost:8080/"
        },
        "id": "oN_oICJ51QrZ",
        "outputId": "7b236b84-88f1-404d-f40b-b13b5ef09695"
      },
      "execution_count": 20,
      "outputs": [
        {
          "output_type": "stream",
          "name": "stdout",
          "text": [
            "Inserisci una lista di numeri separati da uno spazio: 1 2 3 \n",
            "la lista dei numeri pari e': [2]\n"
          ]
        }
      ]
    },
    {
      "cell_type": "code",
      "source": [
        "def filtra_numeri_pari(lista):\n",
        "  numeri_pari = []\n",
        "  for numero in lista:\n",
        "    if numero % 2 == 0:\n",
        "      numeri_pari.append(numero)\n",
        "  return numeri_pari\n",
        "numeri = [1, 2, 3, 4, 5, 6, 7, 8]\n",
        "pari = filtra_numeri_pari(numeri)\n",
        "print(\"Numeri pari:\", pari)"
      ],
      "metadata": {
        "colab": {
          "base_uri": "https://localhost:8080/"
        },
        "id": "76ED3AYs2c8P",
        "outputId": "9c0c42c8-c331-40a6-904a-282a39ccbe95"
      },
      "execution_count": 21,
      "outputs": [
        {
          "output_type": "stream",
          "name": "stdout",
          "text": [
            "Numeri pari: [2, 4, 6, 8]\n"
          ]
        }
      ]
    },
    {
      "cell_type": "markdown",
      "source": [
        "Esercizio 5\n",
        "Scrivi una funzione che prende una lista di parole e restituisce una lista contenente la lunghezza di ciascuna parola."
      ],
      "metadata": {
        "id": "BwnM49QJ2ovx"
      }
    },
    {
      "cell_type": "code",
      "source": [
        "def lunghezza_parole(lista_parole):\n",
        "  risultato = []\n",
        "  for parola in lista_parole:\n",
        "    risultato.append(len(parola))\n",
        "  return risultato\n",
        "lista = [\"ciaow\", \"come\", \"stai\", \"oggi\"]\n",
        "lunghezza_parole(lista)"
      ],
      "metadata": {
        "colab": {
          "base_uri": "https://localhost:8080/"
        },
        "id": "tDLJfCWF3H0u",
        "outputId": "122c30c5-0efa-4097-fb26-30fae137bd3f"
      },
      "execution_count": 24,
      "outputs": [
        {
          "output_type": "execute_result",
          "data": {
            "text/plain": [
              "[5, 4, 4, 4]"
            ]
          },
          "metadata": {},
          "execution_count": 24
        }
      ]
    },
    {
      "cell_type": "markdown",
      "source": [
        "Esercizio 6\n",
        "Scrivi una funzione che prende una lista di numeri e restituisce il valore massimo."
      ],
      "metadata": {
        "id": "-MDBMGcc3rIT"
      }
    },
    {
      "cell_type": "code",
      "source": [
        "def valore_massimo(lista_numeri):\n",
        "  massimo = lista_numeri[0]\n",
        "  for numero in lista_numeri:\n",
        "    if numero > massimo:\n",
        "      massimo = numero\n",
        "  return massimo\n",
        "lista = [1,2,3,55,3]\n",
        "print (f\"il valore massimo e': {valore_massimo(lista)}\")"
      ],
      "metadata": {
        "colab": {
          "base_uri": "https://localhost:8080/"
        },
        "id": "Wsgwue9U33i0",
        "outputId": "9ec5b0ed-1464-4d6d-b426-79f25ed4774d"
      },
      "execution_count": 31,
      "outputs": [
        {
          "output_type": "stream",
          "name": "stdout",
          "text": [
            "il valore massimo e': 55\n"
          ]
        }
      ]
    },
    {
      "cell_type": "code",
      "source": [
        "#script per visualizzare i due numeri maggiori di una lista\n",
        "def due_valori_massimi(lista_numeri):\n",
        "  if len(lista_numeri) < 2:\n",
        "    return \"La lista deve contenere almeno due numeri.\"\n",
        "\n",
        "  if lista_numeri[0] > lista_numeri[1]:\n",
        "    primo = lista_numeri[0]\n",
        "    secondo = lista_numeri[1]\n",
        "  else:\n",
        "    primo = lista_numeri[1]\n",
        "    secondo = lista_numeri[0]\n",
        "\n",
        "  for i in range(2, len(lista_numeri)):\n",
        "    numero = lista_numeri[i]\n",
        "    if numero > primo:\n",
        "      secondo = primo\n",
        "      primo = numero\n",
        "    elif numero > secondo and numero != primo:\n",
        "      secondo = numero\n",
        "\n",
        "  return primo, secondo\n",
        "\n",
        "lista = [4, 7, 2, 9, 5]\n",
        "print(\"I due numeri più grandi sono:\", due_valori_massimi(lista))"
      ],
      "metadata": {
        "colab": {
          "base_uri": "https://localhost:8080/"
        },
        "id": "Ih3o5fg14um4",
        "outputId": "78391a53-d377-424c-8181-2310d8a4e0a1"
      },
      "execution_count": 29,
      "outputs": [
        {
          "output_type": "stream",
          "name": "stdout",
          "text": [
            "I due numeri più grandi sono: (9, 7)\n"
          ]
        }
      ]
    },
    {
      "cell_type": "markdown",
      "source": [
        "Esercizio 7\n",
        "Scrivi una funzione che prende una lista di parole e restituisce la parola più lunga."
      ],
      "metadata": {
        "id": "obCHuzyJ5aGc"
      }
    },
    {
      "cell_type": "code",
      "source": [
        "def parola_lunga(lista_parole):\n",
        "  lunga = lista_parole[0]\n",
        "  for i in lista_parole:\n",
        "    if len(i) > len(lunga):\n",
        "      lunga = i\n",
        "  return lunga\n",
        "\n",
        "#lista = [\"ciao\", \"mondo\", \"cammello\", \"prova\"]\n",
        "lista = list(input(\"Inserisci una lista di parole separate da uno spazio: \").split())\n",
        "print(f\"la parola piu lunga e': {parola_lunga(lista)}\")"
      ],
      "metadata": {
        "colab": {
          "base_uri": "https://localhost:8080/"
        },
        "id": "XP7Y22Y05tO_",
        "outputId": "dbb0e361-f5cd-4265-d497-fa435a4cbc6f"
      },
      "execution_count": 43,
      "outputs": [
        {
          "output_type": "stream",
          "name": "stdout",
          "text": [
            "Inserisci una lista di parole separate da uno spazio: carne ossa cammello ciao\n",
            "la parola piu lunga e': cammello\n"
          ]
        }
      ]
    },
    {
      "cell_type": "code",
      "source": [
        "#scipt per piu parole con la stessa lunghezza massima\n",
        "def parola_L(parole):\n",
        "  risultato = []\n",
        "  max_len = 0\n",
        "\n",
        "  for parola in parole:\n",
        "    if len(parola) > max_len:\n",
        "      risultato = [parola] # nuova parola più lunga → azzera tutto\n",
        "      max_len = len(parola)\n",
        "    elif len(parola) == max_len:\n",
        "      risultato.append(parola) # stessa lunghezza massima → aggiungi\n",
        "    # altrimenti non fare nulla\n",
        "\n",
        "  return risultato\n",
        "\n",
        "\n",
        "\n",
        "parole = list(input(\"Inserire una lista di parole separate da spazio: \").split())\n",
        "\n",
        "parola_più_lunga = parola_L(parole)\n",
        "\n",
        "print(\"Le parole più lunghe sono: \", parola_più_lunga)"
      ],
      "metadata": {
        "id": "FRgF-Vt0_IvP"
      },
      "execution_count": null,
      "outputs": []
    },
    {
      "cell_type": "markdown",
      "source": [
        "Esercizio 8\n",
        "Scrivi una funzione che prende una lista di numeri e restituisce la media dei numeri."
      ],
      "metadata": {
        "id": "hKxtdK1L_hov"
      }
    },
    {
      "cell_type": "code",
      "source": [
        "def media(lista):\n",
        "  if len(lista) == 0:\n",
        "    return None\n",
        "  somma = 0\n",
        "  for i in lista:\n",
        "    somma += i\n",
        "  media = somma / len(lista)\n",
        "  return int(media) if media.is_integer() else media\n",
        "\n",
        "lista = input(\"Inserisci una lista di numeri separati da uno spazio: \").split()\n",
        "lista = [float(numero) for numero in lista]\n",
        "print(f\"la media della lista e': {media(lista)}\")"
      ],
      "metadata": {
        "colab": {
          "base_uri": "https://localhost:8080/"
        },
        "id": "UQvQE8k__jXQ",
        "outputId": "e2023690-c9c0-40c8-9283-29b9b6204b83"
      },
      "execution_count": 53,
      "outputs": [
        {
          "output_type": "stream",
          "name": "stdout",
          "text": [
            "Inserisci una lista di numeri separati da uno spazio: \n",
            "la media della lista e': None\n"
          ]
        }
      ]
    },
    {
      "cell_type": "markdown",
      "source": [
        "Esercizio 9\n",
        "Scrivi una funzione che prende una lista di parole e restituisce una lista contenente solo le parole palindrome."
      ],
      "metadata": {
        "id": "81co9b12CdCc"
      }
    },
    {
      "cell_type": "code",
      "source": [
        "def palindroma(lista_parole):\n",
        "  lista_palindroma = []\n",
        "  for parola in lista_parole:\n",
        "    if parola == parola[::-1]:\n",
        "      lista_palindroma.append(parola)\n",
        "  return lista_palindroma\n",
        "\n",
        "lista = list(input(\"Inserisci una lista di parole separate da uno spazio: \").split())\n",
        "print(f\"le parole palindrome sono: {palindroma(lista)}\")\n"
      ],
      "metadata": {
        "colab": {
          "base_uri": "https://localhost:8080/"
        },
        "id": "tNuyjX-rC_uf",
        "outputId": "97bcf221-7e1d-413e-86df-6f5bc8d24d52"
      },
      "execution_count": 61,
      "outputs": [
        {
          "output_type": "stream",
          "name": "stdout",
          "text": [
            "Inserisci una lista di parole separate da uno spazio: anna carla\n",
            "le parole palindrome sono: ['anna']\n"
          ]
        }
      ]
    },
    {
      "cell_type": "code",
      "source": [
        "def palindromo(parola):\n",
        "  parola = parola.lower().replace(\" \", \"\")\n",
        "  i = 0\n",
        "  j = len(parola) - 1\n",
        "  #print(len(parola))\n",
        "  while i < j:\n",
        "    if parola[i] != parola[j]:\n",
        "      return False\n",
        "    i += 1\n",
        "    j -= 1\n",
        "\n",
        "  return True\n",
        "\n",
        "\n",
        "print(palindromo(\"Angolo bar a Bologna\"))\n",
        "\n"
      ],
      "metadata": {
        "colab": {
          "base_uri": "https://localhost:8080/"
        },
        "id": "KWX8NA7CF9-7",
        "outputId": "5f1e165f-e1c6-4083-8fdb-65ecab17df88"
      },
      "execution_count": 67,
      "outputs": [
        {
          "output_type": "stream",
          "name": "stdout",
          "text": [
            "True\n"
          ]
        }
      ]
    },
    {
      "cell_type": "markdown",
      "source": [
        "Esercizio 10\n",
        "Scrivi una funzione che prende una lista di numeri e restituisce una lista contenente solo i numeri maggiori di un valore specificato."
      ],
      "metadata": {
        "id": "knFokMp5LOcM"
      }
    },
    {
      "cell_type": "code",
      "source": [
        "def numeri_maggiori(lista, valore):\n",
        "    maggiori = [numero for numero in lista if numero > valore]\n",
        "    return maggiori\n",
        "\n",
        "lista = list(map(int, input(\"Inserisci i numeri separati da spazio: \").split()))\n",
        "valore = int(input(\"Inserisci il valore di confronto: \"))\n",
        "\n",
        "print(\"Numeri maggiori di\", valore, \":\", numeri_maggiori(lista, valore))"
      ],
      "metadata": {
        "colab": {
          "base_uri": "https://localhost:8080/"
        },
        "id": "vcRuYoc6LRqJ",
        "outputId": "79526bc5-5175-4fef-ece7-800f01df04bc"
      },
      "execution_count": 73,
      "outputs": [
        {
          "output_type": "stream",
          "name": "stdout",
          "text": [
            "Inserisci i numeri separati da spazio: 1 2 3 4 5 6 88 90 13\n",
            "Inserisci il valore di confronto: 11\n",
            "Numeri maggiori di 11 : [88, 90, 13]\n"
          ]
        }
      ]
    }
  ]
}