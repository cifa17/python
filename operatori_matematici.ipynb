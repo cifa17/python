{
  "nbformat": 4,
  "nbformat_minor": 0,
  "metadata": {
    "colab": {
      "provenance": [],
      "authorship_tag": "ABX9TyMei4yPwXtVTXfLRe+ZSGSB",
      "include_colab_link": true
    },
    "kernelspec": {
      "name": "python3",
      "display_name": "Python 3"
    },
    "language_info": {
      "name": "python"
    }
  },
  "cells": [
    {
      "cell_type": "markdown",
      "metadata": {
        "id": "view-in-github",
        "colab_type": "text"
      },
      "source": [
        "<a href=\"https://colab.research.google.com/github/cifa17/python/blob/main/operatori_matematici.ipynb\" target=\"_parent\"><img src=\"https://colab.research.google.com/assets/colab-badge.svg\" alt=\"Open In Colab\"/></a>"
      ]
    },
    {
      "cell_type": "markdown",
      "source": [
        "Esercizio 1\n",
        "Dichiarare due variabili \"numero1\" e \"numero2\" e assegnargli due numeri interi. Eseguire l'addizione tra le due variabili e assegnare il risultato ad una nuova variabile \"somma\", mandandola a schermo"
      ],
      "metadata": {
        "id": "z-XIKEc8Fc8B"
      }
    },
    {
      "cell_type": "code",
      "execution_count": null,
      "metadata": {
        "colab": {
          "base_uri": "https://localhost:8080/"
        },
        "id": "vzl5urf6Fb-z",
        "outputId": "5d47e40b-12b1-46ee-f15e-0a40e3ceb461"
      },
      "outputs": [
        {
          "output_type": "stream",
          "name": "stdout",
          "text": [
            "30\n"
          ]
        }
      ],
      "source": [
        "numero1=10\n",
        "numero2=20\n",
        "somma=numero1+numero2\n",
        "print(somma)"
      ]
    },
    {
      "cell_type": "code",
      "source": [
        "somma=0\n",
        "for i in range(0,2):\n",
        "  numero = int(input(\"Inserisci un numero: \"))\n",
        "  somma += numero\n",
        "print(\"la somma e'\", somma)"
      ],
      "metadata": {
        "colab": {
          "base_uri": "https://localhost:8080/"
        },
        "id": "JzqCq5h9Gq1Y",
        "outputId": "4d3cdca8-f38a-46ce-b81a-67d710c56b4a"
      },
      "execution_count": null,
      "outputs": [
        {
          "output_type": "stream",
          "name": "stdout",
          "text": [
            "Inserisci un numero: 2\n",
            "Inserisci un numero: 1\n",
            "la somma e' 3\n"
          ]
        }
      ]
    },
    {
      "source": [
        "somma=0\n",
        "for i in range(0,2):\n",
        "  # Use f-string formatting to create a single prompt string\n",
        "  numero = int(input(f\"Inserisci il {i+1}° numero: \"))\n",
        "  somma += numero\n",
        "print(\"la somma e'\", somma)"
      ],
      "cell_type": "code",
      "metadata": {
        "colab": {
          "base_uri": "https://localhost:8080/"
        },
        "id": "18g0zar3JAWr",
        "outputId": "5b1641e4-7404-4cf8-db09-6e24b9602e78"
      },
      "execution_count": null,
      "outputs": [
        {
          "output_type": "stream",
          "name": "stdout",
          "text": [
            "Inserisci il 1° numero: 3\n",
            "Inserisci il 2° numero: 2\n",
            "la somma e' 5\n"
          ]
        }
      ]
    },
    {
      "cell_type": "markdown",
      "source": [
        "Esercizio 2\n",
        "Eseguire la sottrazione tra le due variabili e assegnare il risultato ad una nuova variabile \"differenza\". Mandare a schermo."
      ],
      "metadata": {
        "id": "d4fi4geoJNis"
      }
    },
    {
      "cell_type": "code",
      "source": [
        "numero1=10\n",
        "numero2=5\n",
        "differenza=numero1-numero2\n",
        "print(differenza)"
      ],
      "metadata": {
        "colab": {
          "base_uri": "https://localhost:8080/"
        },
        "id": "QPxFlt-fJRv1",
        "outputId": "4c802813-bd54-44e6-b775-66e435ae2b0b"
      },
      "execution_count": null,
      "outputs": [
        {
          "output_type": "stream",
          "name": "stdout",
          "text": [
            "5\n"
          ]
        }
      ]
    },
    {
      "cell_type": "code",
      "source": [
        "differenza=0\n",
        "for i in range(0,2):\n",
        "  numero = int(input(\"Inserisci un numero: \"))\n",
        "  differenza = numero - differenza\n",
        "print(\"la differenza e'\", -differenza)"
      ],
      "metadata": {
        "colab": {
          "base_uri": "https://localhost:8080/"
        },
        "id": "RCvdaeUbJgS6",
        "outputId": "5510c590-a4bc-4cf9-b238-95a051ab5bea"
      },
      "execution_count": null,
      "outputs": [
        {
          "output_type": "stream",
          "name": "stdout",
          "text": [
            "Inserisci un numero: 3\n",
            "Inserisci un numero: 2\n",
            "la differenza e' 1\n"
          ]
        }
      ]
    },
    {
      "cell_type": "markdown",
      "source": [
        "Esercizio 3\n",
        "Eseguire la moltiplicazione tra le due variabili e assegnare il risultato ad una nuova variabile \"prodotto\". Mandare a schermo."
      ],
      "metadata": {
        "id": "2lhMnYiDLCCc"
      }
    },
    {
      "cell_type": "code",
      "source": [
        "moltiplicazione=1\n",
        "for i in range(0,2):\n",
        "  numero = int(input(\"Inserisci un numero: \"))\n",
        "  moltiplicazione += numero\n",
        "print(\"il prodotto e'\", moltiplicazione)"
      ],
      "metadata": {
        "colab": {
          "base_uri": "https://localhost:8080/"
        },
        "id": "5TnftjiBLC9m",
        "outputId": "b6c5e85f-df60-4d21-e78e-0b9a655a59e4"
      },
      "execution_count": null,
      "outputs": [
        {
          "output_type": "stream",
          "name": "stdout",
          "text": [
            "Inserisci un numero: 3\n",
            "Inserisci un numero: 2\n",
            "il prodotto e' 6\n"
          ]
        }
      ]
    },
    {
      "cell_type": "markdown",
      "source": [
        "Esercizio 4\n",
        "Eseguire la divisione tra le due variabili e assegnare il risultato ad una nuova variabile \"quoziente\". Mandare a schermo."
      ],
      "metadata": {
        "id": "wWFRgQlqMwXA"
      }
    },
    {
      "cell_type": "code",
      "source": [
        "numero1 = float(input(\"Inserisci un numero: \"))\n",
        "numero2 = float(input(\"Inserisci un numero: \"))\n",
        "\n",
        "print(\"il quoziente e'\", numero1/numero2)\n",
        "#con interpolazione\n",
        "print(f\"Il risultato della divisione è: {numero1/numero2}\")"
      ],
      "metadata": {
        "colab": {
          "base_uri": "https://localhost:8080/"
        },
        "id": "JViJ4RZeMxIT",
        "outputId": "a4ca5dc7-d25a-4569-d321-250c9854d466"
      },
      "execution_count": null,
      "outputs": [
        {
          "output_type": "stream",
          "name": "stdout",
          "text": [
            "Inserisci un numero: 10\n",
            "Inserisci un numero: 2\n",
            "il quoziente e' 5.0\n",
            "Il risultato della divisione è: 5.0\n"
          ]
        }
      ]
    },
    {
      "cell_type": "markdown",
      "source": [
        "Esercizio 5\n",
        "Eseguire l'operazione di modulo tra le due variabili e assegnare il risultato ad una nuova variabile \"resto\". Mandare a schermo."
      ],
      "metadata": {
        "id": "odF3KVkYN4J_"
      }
    },
    {
      "cell_type": "code",
      "source": [
        "n1=int(input(\"Inserisci un numero: \"))\n",
        "n2=int(input(\"Inserisci un numero: \"))\n",
        "print(\"il resto e'\", n1%n2)\n",
        "if n1%n2==0:\n",
        "  print(\"il primo numero e' divisibile per il secondo\")\n",
        "else:\n",
        "  print(\"il primo numero non e' divisibile per il secondo\")"
      ],
      "metadata": {
        "colab": {
          "base_uri": "https://localhost:8080/"
        },
        "id": "u65EUPUMN5Ee",
        "outputId": "1e5df762-d8d4-4388-99d4-fd8910a8a9db"
      },
      "execution_count": null,
      "outputs": [
        {
          "output_type": "stream",
          "name": "stdout",
          "text": [
            "Inserisci un numero: 7\n",
            "Inserisci un numero: 2\n",
            "il resto e' 1\n",
            "il primo numero non e' divisibile per il secondo\n"
          ]
        }
      ]
    },
    {
      "cell_type": "markdown",
      "source": [
        "Esercizio 6\n",
        "Incrementare \"numero1\" di 1 e decrementare \"numero2\" di 3. Mandare a schermo i nuovi valori."
      ],
      "metadata": {
        "id": "889MpMldOxWI"
      }
    },
    {
      "cell_type": "code",
      "source": [
        "n1=int(input(\"Inserisci un numero: \"))\n",
        "n2=int(input(\"Inserisci un numero: \"))\n",
        "n1+=1\n",
        "n2-=3\n",
        "print(f\"il primo numero e' \", n1)\n",
        "print(f\"il secondo numero e' \", n2)"
      ],
      "metadata": {
        "colab": {
          "base_uri": "https://localhost:8080/"
        },
        "id": "Wi5YkY53OzVh",
        "outputId": "a838208f-05fb-4bf2-c245-cc595ae4d126"
      },
      "execution_count": null,
      "outputs": [
        {
          "output_type": "stream",
          "name": "stdout",
          "text": [
            "Inserisci un numero: 5\n",
            "Inserisci un numero: 5\n",
            "il primo numero e'  6\n",
            "il secondo numero e'  2\n"
          ]
        }
      ]
    },
    {
      "cell_type": "code",
      "source": [
        "a=int(input(\"Inserisci un numero: \"))\n",
        "b=int(input(\"Inserisci un numero: \"))\n",
        "def calcola(n1,n2):\n",
        "  n1+=1\n",
        "  n2-=3\n",
        "  return n1,n2\n",
        "print(\"i numeri sono stati modificati:\", calcola(a,b))"
      ],
      "metadata": {
        "colab": {
          "base_uri": "https://localhost:8080/"
        },
        "id": "rWKE2HCAPlSq",
        "outputId": "6b310a03-3098-4202-cbdb-fff8f1e3a3b2"
      },
      "execution_count": null,
      "outputs": [
        {
          "output_type": "stream",
          "name": "stdout",
          "text": [
            "Inserisci un numero: 9\n",
            "Inserisci un numero: 13\n",
            "i numeri sono stati modificati: (10, 10)\n"
          ]
        }
      ]
    },
    {
      "cell_type": "markdown",
      "source": [
        "Esercizio 7\n",
        "Moltiplicare \"numero1\" per se stesso + 5, sommarlo quindi a \"numero2\" elevato alla seconda. Assegnare l'operazione alla variabile risultato e mandare a schermo"
      ],
      "metadata": {
        "id": "WMYB6WyfSdvS"
      }
    },
    {
      "cell_type": "code",
      "source": [
        "numero1=int(input(\"Inserisci un numero: \"))\n",
        "numero2=int(input(\"Inserisci un numero: \"))\n",
        "risultato=(numero1*numero1) + 5 + numero2**2\n",
        "print(risultato)"
      ],
      "metadata": {
        "colab": {
          "base_uri": "https://localhost:8080/"
        },
        "id": "KOVVGgTKSgbM",
        "outputId": "a77414ba-9bc6-4824-92b5-42352ca182ed"
      },
      "execution_count": null,
      "outputs": [
        {
          "output_type": "stream",
          "name": "stdout",
          "text": [
            "Inserisci un numero: 2\n",
            "Inserisci un numero: 3\n",
            "18\n"
          ]
        }
      ]
    },
    {
      "cell_type": "markdown",
      "source": [
        "Esercizio 8\n",
        "Trovare quella operazione per portare \"numero1\" a valere 1 senza riassegnarlo direttamente ad 1 e sottraendolo a se stesso."
      ],
      "metadata": {
        "id": "YBGLUUo1l3lM"
      }
    },
    {
      "cell_type": "code",
      "source": [
        "numero1=int(input(\"Inserisci un numero: \"))\n",
        "numero1 = numero1-(numero1-1)\n",
        "print(\"il risultato e'\", numero1)"
      ],
      "metadata": {
        "colab": {
          "base_uri": "https://localhost:8080/"
        },
        "id": "gEbjkUi8l4qX",
        "outputId": "c1604bc4-0b1b-48d8-e54b-33bd5078cbb1"
      },
      "execution_count": 4,
      "outputs": [
        {
          "output_type": "stream",
          "name": "stdout",
          "text": [
            "Inserisci un numero: 8\n",
            "il risultato e' 1\n"
          ]
        }
      ]
    }
  ]
}