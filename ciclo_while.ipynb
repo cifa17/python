{
  "nbformat": 4,
  "nbformat_minor": 0,
  "metadata": {
    "colab": {
      "provenance": [],
      "authorship_tag": "ABX9TyP/VIREt6LptfmGhnwFtQUA",
      "include_colab_link": true
    },
    "kernelspec": {
      "name": "python3",
      "display_name": "Python 3"
    },
    "language_info": {
      "name": "python"
    }
  },
  "cells": [
    {
      "cell_type": "markdown",
      "metadata": {
        "id": "view-in-github",
        "colab_type": "text"
      },
      "source": [
        "<a href=\"https://colab.research.google.com/github/cifa17/python/blob/main/ciclo_while.ipynb\" target=\"_parent\"><img src=\"https://colab.research.google.com/assets/colab-badge.svg\" alt=\"Open In Colab\"/></a>"
      ]
    },
    {
      "cell_type": "markdown",
      "source": [
        "Esercizio 1\n",
        "Stampare i numeri interi da 1 a 10 usando un loop while."
      ],
      "metadata": {
        "id": "SRKmt5unJp4t"
      }
    },
    {
      "cell_type": "code",
      "execution_count": null,
      "metadata": {
        "colab": {
          "base_uri": "https://localhost:8080/"
        },
        "id": "GvOucWshJnZi",
        "outputId": "ff832cd4-3fd3-4422-85f4-711bccb90b11"
      },
      "outputs": [
        {
          "output_type": "stream",
          "name": "stdout",
          "text": [
            "1\n",
            "2\n",
            "3\n",
            "4\n",
            "5\n",
            "6\n",
            "7\n",
            "8\n",
            "9\n",
            "10\n"
          ]
        }
      ],
      "source": [
        "numero=1\n",
        "while numero <= 10:\n",
        "    print(numero)\n",
        "    numero += 1"
      ]
    },
    {
      "cell_type": "markdown",
      "source": [
        "Esercizio 2\n",
        "Calcolare la somma dei primi n numeri interi positivi usando un loop while. L'utente deve inserire il valore di n."
      ],
      "metadata": {
        "id": "HqHyie67KOpW"
      }
    },
    {
      "cell_type": "code",
      "source": [
        "n = int(input(\"Inserisci un numero intero positivo: \"))\n",
        "\n",
        "while n <= 0:  # Controllo per assicurarsi che n sia positivo\n",
        "    print(\"Per favore, inserisci un numero intero positivo.\")\n",
        "    n = int(input(\"Inserisci un numero intero positivo: \"))\n",
        "\n",
        "somma = 0\n",
        "i = 1\n",
        "\n",
        "while i <= n:\n",
        "    somma += i\n",
        "    i += 1\n",
        "\n",
        "print(f\"La somma dei primi {n} numeri interi positivi è: {somma}\")"
      ],
      "metadata": {
        "colab": {
          "base_uri": "https://localhost:8080/"
        },
        "id": "nBvfcTaiKKrN",
        "outputId": "b5681050-4fd6-480e-d216-749514bc2c92"
      },
      "execution_count": null,
      "outputs": [
        {
          "output_type": "stream",
          "name": "stdout",
          "text": [
            "Inserisci un numero intero positivo: 3\n",
            "La somma dei primi 3 numeri interi positivi è: 6\n"
          ]
        }
      ]
    },
    {
      "cell_type": "markdown",
      "source": [
        "Esercizio 3 Stampare i numeri pari da 2 a 10 usando un loop while."
      ],
      "metadata": {
        "id": "zOdbVSQjNTIN"
      }
    },
    {
      "cell_type": "code",
      "source": [
        "numero = 2\n",
        "while numero <= 10:\n",
        "    print(numero)\n",
        "    numero += 2"
      ],
      "metadata": {
        "colab": {
          "base_uri": "https://localhost:8080/"
        },
        "id": "qlA9k3xDNT6A",
        "outputId": "8f66cbbc-1077-4156-a549-ca9b7ddd1ec4"
      },
      "execution_count": null,
      "outputs": [
        {
          "output_type": "stream",
          "name": "stdout",
          "text": [
            "2\n",
            "4\n",
            "6\n",
            "8\n",
            "10\n"
          ]
        }
      ]
    },
    {
      "cell_type": "markdown",
      "source": [
        "Esercizio 4\n",
        "Chiedere all'utente di indovinare un numero intero casuale compreso tra 1 e 10. Continuare a chiedere all'utente di indovinare finché non indovina il numero corretto. Usare un loop while."
      ],
      "metadata": {
        "id": "D10DSj0_Nlrc"
      }
    },
    {
      "cell_type": "code",
      "source": [
        "import random\n",
        "\n",
        "numero_casuale = random.randint(1, 10)\n",
        "indovina = 0\n",
        "print(numero_casuale)\n",
        "while indovina != numero_casuale:\n",
        "    try:\n",
        "        indovina = int(input(\"Indovina un numero intero tra 1 e 10: \"))\n",
        "        if indovina < numero_casuale:\n",
        "            print(\"Troppo basso!\")\n",
        "        elif indovina > numero_casuale:\n",
        "            print(\"Troppo alto!\")\n",
        "    except ValueError:\n",
        "        print(\"Inserisci un numero intero valido.\")\n",
        "\n",
        "print(f\"Hai indovinato! Il numero era {numero_casuale}\")\n"
      ],
      "metadata": {
        "colab": {
          "base_uri": "https://localhost:8080/"
        },
        "id": "4_uroecpQFQU",
        "outputId": "2598cfb9-b62e-4ba6-b4fe-67fb998011f4"
      },
      "execution_count": null,
      "outputs": [
        {
          "output_type": "stream",
          "name": "stdout",
          "text": [
            "6\n",
            "Indovina un numero intero tra 1 e 10: 8\n",
            "Troppo alto!\n",
            "Indovina un numero intero tra 1 e 10: 9\n",
            "Troppo alto!\n",
            "Indovina un numero intero tra 1 e 10: 6\n",
            "Hai indovinato! Il numero era 6\n"
          ]
        }
      ]
    },
    {
      "cell_type": "markdown",
      "source": [
        "Esercizio 5\n",
        "Chiedere all'utente di inserire una stringa. Stampare la stringa al contrario usando un loop while."
      ],
      "metadata": {
        "id": "h04TE-TCT38T"
      }
    },
    {
      "cell_type": "code",
      "source": [
        "stringa = input(\"Inserisci una stringa: \")\n",
        "indice = len(stringa) - 1\n",
        "stringa_al_contrario = \"\"\n",
        "\n",
        "while indice >= 0:\n",
        "    stringa_al_contrario += stringa[indice]\n",
        "    indice -= 1\n",
        "print (f\"La stringa al contrario è: {stringa_al_contrario}\")"
      ],
      "metadata": {
        "colab": {
          "base_uri": "https://localhost:8080/"
        },
        "id": "X0AXfTIBT4xW",
        "outputId": "91108c43-e7a4-4501-bf9f-0f07afd687ac"
      },
      "execution_count": null,
      "outputs": [
        {
          "output_type": "stream",
          "name": "stdout",
          "text": [
            "Inserisci una stringa: ciao\n",
            "La stringa al contrario è: oaic\n"
          ]
        }
      ]
    },
    {
      "cell_type": "code",
      "source": [
        "# versione con reverse SENZA while\n",
        "stringa = input(\"Inserisci una stringa: \")\n",
        "stringa_al_contrario = stringa[::-1]  # slicing per invertire la stringa\n",
        "print(f\"La stringa al contrario è: {stringa_al_contrario}\")"
      ],
      "metadata": {
        "id": "o2Oq-CEPUMO3"
      },
      "execution_count": null,
      "outputs": []
    },
    {
      "cell_type": "markdown",
      "source": [
        "Esercizio 6\n",
        "Stampare i numeri da 10 a 1 usando un loop while."
      ],
      "metadata": {
        "id": "rbC-9VAMWXWv"
      }
    },
    {
      "cell_type": "code",
      "source": [
        "n =10\n",
        "while n >=1:\n",
        "  print(n)\n",
        "  n -=1"
      ],
      "metadata": {
        "colab": {
          "base_uri": "https://localhost:8080/"
        },
        "id": "a4d5Nu7CWaVz",
        "outputId": "71935dae-77fa-401c-ade5-64edebf9c7ac"
      },
      "execution_count": null,
      "outputs": [
        {
          "output_type": "stream",
          "name": "stdout",
          "text": [
            "10\n",
            "9\n",
            "8\n",
            "7\n",
            "6\n",
            "5\n",
            "4\n",
            "3\n",
            "2\n",
            "1\n"
          ]
        }
      ]
    },
    {
      "cell_type": "markdown",
      "source": [
        "Esercizio 7\n",
        "Calcolare il fattoriale di un numero intero positivo n usando un loop while."
      ],
      "metadata": {
        "id": "fz0ROdpeW0jH"
      }
    },
    {
      "cell_type": "code",
      "source": [
        "n = int(input(\"Inserisci un numero intero positivo: \"))\n",
        "\n",
        "while n <= 0:\n",
        "    n = int(input(\"Inserisci un numero intero positivo: \"))\n",
        "\n",
        "fattoriale = 1\n",
        "i = 1\n",
        "while i <= n:\n",
        "    fattoriale *= i\n",
        "    i += 1\n",
        "\n",
        "print(f\"Il fattoriale con il while di {n} è {fattoriale}\")\n",
        "\n",
        "def fattoriale(n):\n",
        "    if n==1:\n",
        "        return 1\n",
        "    return fattoriale(n-1) * n\n",
        "\n",
        "print(f\"il fattoriale ricorsivo di {n} e' {fattoriale(n)}\")\n",
        "#la ricorsione e' piu' elegante ma ha piu margine di errore perche' occupa piu' volte la memoria pertanto si consiglia\n",
        "#l'iterazione (in questo caso col while)"
      ],
      "metadata": {
        "colab": {
          "base_uri": "https://localhost:8080/"
        },
        "id": "qFgS3BZkW1bU",
        "outputId": "5bfbedc9-67a3-49c7-ca0a-926b2b5d6e26"
      },
      "execution_count": null,
      "outputs": [
        {
          "output_type": "stream",
          "name": "stdout",
          "text": [
            "Inserisci un numero intero positivo: 5\n",
            "Il fattoriale con il while di 5 è 120\n",
            "il fattoriale ricorsivo di 5 e' 120\n"
          ]
        }
      ]
    },
    {
      "cell_type": "markdown",
      "source": [
        "Esercizio 8\n",
        "Chiedere all'utente di inserire una lista di numeri interi. Stampare la somma di tutti i numeri usando un loop while."
      ],
      "metadata": {
        "id": "1FlMfkouZfKp"
      }
    },
    {
      "cell_type": "code",
      "source": [
        "lista = []\n",
        "somma = 0\n",
        "stringa = \" \"\n",
        "while stringa != \"\":\n",
        "    stringa = input(\"Inserisci un numero intero (o premi invio per terminare): \")\n",
        "    if stringa.isnumeric():\n",
        "        numero = int(stringa)\n",
        "        lista.append(numero)\n",
        "        somma += numero\n",
        "print(f\"La somma dei numeri inseriti è: {somma}\")"
      ],
      "metadata": {
        "colab": {
          "base_uri": "https://localhost:8080/"
        },
        "id": "4p65DOMhbrUA",
        "outputId": "6415630e-3d3a-4b75-8525-6b9fd1cecd78"
      },
      "execution_count": null,
      "outputs": [
        {
          "output_type": "stream",
          "name": "stdout",
          "text": [
            "Inserisci un numero intero (o premi invio per terminare): 1\n",
            "Inserisci un numero intero (o premi invio per terminare): 2\n",
            "Inserisci un numero intero (o premi invio per terminare): 3\n",
            "Inserisci un numero intero (o premi invio per terminare): \n",
            "La somma dei numeri inseriti è: 6\n"
          ]
        }
      ]
    },
    {
      "cell_type": "code",
      "source": [
        "numeri = input(\"Inserisci una lista di numeri interi separati da uno spazio: \").split()\n",
        "somma = 0\n",
        "indice = 0\n",
        "while indice < len(numeri):\n",
        "  somma += int(numeri[indice])\n",
        "  indice += 1\n",
        "print(\"La somma dei numeri inseriti è:\", somma)"
      ],
      "metadata": {
        "colab": {
          "base_uri": "https://localhost:8080/"
        },
        "id": "1Vxiywi2dEr9",
        "outputId": "365b5bd8-851b-4eae-d94d-0ecd4107806e"
      },
      "execution_count": null,
      "outputs": [
        {
          "output_type": "stream",
          "name": "stdout",
          "text": [
            "Inserisci una lista di numeri interi separati da uno spazio:  1 2 3 \n",
            "La somma dei numeri inseriti è: 6\n"
          ]
        }
      ]
    },
    {
      "cell_type": "markdown",
      "source": [
        "Esercizio 9\n",
        "Chiedere all'utente di inserire una stringa. Stampare solo le consonanti della stringa usando un loop while."
      ],
      "metadata": {
        "id": "CCoFokkdu201"
      }
    },
    {
      "cell_type": "code",
      "source": [
        "stringa = input(\"Inserisci una stringa: \")\n",
        "\n",
        "consonanti = \"bcdfghlmnpqrstvwxyz\"\n",
        "\n",
        "i = 0\n",
        "\n",
        "while i < len(stringa):\n",
        "  if stringa[i].lower() in consonanti:\n",
        "    print(stringa[i])\n",
        "  i += 1\n"
      ],
      "metadata": {
        "colab": {
          "base_uri": "https://localhost:8080/"
        },
        "id": "b2JWX-jau3ne",
        "outputId": "cf484856-5228-4ec2-8222-f3ab25dd7a60"
      },
      "execution_count": 4,
      "outputs": [
        {
          "output_type": "stream",
          "name": "stdout",
          "text": [
            "Inserisci una stringa: carro\n",
            "c\n",
            "r\n",
            "r\n"
          ]
        }
      ]
    }
  ]
}