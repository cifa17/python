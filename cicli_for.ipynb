{
  "nbformat": 4,
  "nbformat_minor": 0,
  "metadata": {
    "colab": {
      "provenance": [],
      "authorship_tag": "ABX9TyN9y/tz6UqV7AM3JWropelw",
      "include_colab_link": true
    },
    "kernelspec": {
      "name": "python3",
      "display_name": "Python 3"
    },
    "language_info": {
      "name": "python"
    }
  },
  "cells": [
    {
      "cell_type": "markdown",
      "metadata": {
        "id": "view-in-github",
        "colab_type": "text"
      },
      "source": [
        "<a href=\"https://colab.research.google.com/github/cifa17/python/blob/main/cicli_for.ipynb\" target=\"_parent\"><img src=\"https://colab.research.google.com/assets/colab-badge.svg\" alt=\"Open In Colab\"/></a>"
      ]
    },
    {
      "cell_type": "markdown",
      "source": [
        "Esercizio 1\n",
        "Scrivere un programma che utilizzi un loop for per stampare ogni elemento di una lista."
      ],
      "metadata": {
        "id": "nFrAazPf8vBv"
      }
    },
    {
      "cell_type": "code",
      "execution_count": 3,
      "metadata": {
        "colab": {
          "base_uri": "https://localhost:8080/"
        },
        "id": "eWhBNsYg8oyM",
        "outputId": "4f1364cb-87cd-4909-84a6-cb4f15c6491c"
      },
      "outputs": [
        {
          "output_type": "stream",
          "name": "stdout",
          "text": [
            "1\n",
            "2\n",
            "3\n",
            "4\n",
            "5\n",
            "6\n",
            "7\n",
            "8\n",
            "9\n",
            "10\n"
          ]
        }
      ],
      "source": [
        "lista = [1,2,3,4,5,6,7,8,9,10]\n",
        "for i in lista:\n",
        "    print(i)"
      ]
    },
    {
      "cell_type": "markdown",
      "source": [
        "Esercizio 2\n",
        "Scrivere un programma che utilizzi un loop for per stampare tutti i numeri da 1 a 10."
      ],
      "metadata": {
        "id": "IMZIWkYO9J_N"
      }
    },
    {
      "cell_type": "code",
      "source": [
        "for i in range(1,11):\n",
        "    print(i)"
      ],
      "metadata": {
        "colab": {
          "base_uri": "https://localhost:8080/"
        },
        "id": "xDig-5ti9M-P",
        "outputId": "d23fcbc0-0229-47e3-fa56-4377f1421247"
      },
      "execution_count": 6,
      "outputs": [
        {
          "output_type": "stream",
          "name": "stdout",
          "text": [
            "1\n",
            "2\n",
            "3\n",
            "4\n",
            "5\n",
            "6\n",
            "7\n",
            "8\n",
            "9\n",
            "10\n"
          ]
        }
      ]
    },
    {
      "cell_type": "markdown",
      "source": [
        "Esercizio 3\n",
        "Scrivere un programma che utilizzi un loop for per sommare tutti i numeri in una lista."
      ],
      "metadata": {
        "id": "6Y7_joJI9kl-"
      }
    },
    {
      "cell_type": "code",
      "source": [
        "numeri = [3,77,15,5]\n",
        "somma = 0\n",
        "for i in numeri:\n",
        "    somma += i\n",
        "print(f\"la somma e'{somma}\")"
      ],
      "metadata": {
        "colab": {
          "base_uri": "https://localhost:8080/"
        },
        "id": "yVujtVVS9m39",
        "outputId": "8ac74a86-a5b5-4ae8-b839-17adca120804"
      },
      "execution_count": 9,
      "outputs": [
        {
          "output_type": "stream",
          "name": "stdout",
          "text": [
            "la somma e'100\n"
          ]
        }
      ]
    },
    {
      "cell_type": "markdown",
      "source": [
        "Esercizio 4\n",
        "Scrivere un programma che utilizzi un loop for per stampare tutti i numeri pari da 1 a 20."
      ],
      "metadata": {
        "id": "h2Ln9SO1-Ett"
      }
    },
    {
      "cell_type": "code",
      "source": [
        "for i in range(2,21,2):\n",
        "    print(i)"
      ],
      "metadata": {
        "colab": {
          "base_uri": "https://localhost:8080/"
        },
        "id": "PFUSamJB-G1F",
        "outputId": "7ba9724c-76fe-4fcf-f110-52714ee55327"
      },
      "execution_count": 10,
      "outputs": [
        {
          "output_type": "stream",
          "name": "stdout",
          "text": [
            "2\n",
            "4\n",
            "6\n",
            "8\n",
            "10\n",
            "12\n",
            "14\n",
            "16\n",
            "18\n",
            "20\n"
          ]
        }
      ]
    },
    {
      "cell_type": "code",
      "source": [
        "for numero in range(1, 21):\n",
        "  if numero % 2 == 0:\n",
        "    print(numero)"
      ],
      "metadata": {
        "colab": {
          "base_uri": "https://localhost:8080/"
        },
        "id": "n4Sx-OJJ-Xu8",
        "outputId": "3e46221b-c692-4912-a09a-0bd10db3eb43"
      },
      "execution_count": 11,
      "outputs": [
        {
          "output_type": "stream",
          "name": "stdout",
          "text": [
            "2\n",
            "4\n",
            "6\n",
            "8\n",
            "10\n",
            "12\n",
            "14\n",
            "16\n",
            "18\n",
            "20\n"
          ]
        }
      ]
    },
    {
      "cell_type": "markdown",
      "source": [
        "Esercizio 5\n",
        "Scrivere un programma che utilizzi un loop for per stampare tutte le lettere di una stringa."
      ],
      "metadata": {
        "id": "jKu6YTlt-qrX"
      }
    },
    {
      "cell_type": "code",
      "source": [
        "stringa = \"ciao mondo!\"\n",
        "for i in stringa:\n",
        "    print(i)"
      ],
      "metadata": {
        "colab": {
          "base_uri": "https://localhost:8080/"
        },
        "id": "ko8my5dt-tcF",
        "outputId": "c07ff7b5-9f24-4025-e402-206e1fc6f28c"
      },
      "execution_count": 13,
      "outputs": [
        {
          "output_type": "stream",
          "name": "stdout",
          "text": [
            "c\n",
            "i\n",
            "a\n",
            "o\n",
            " \n",
            "m\n",
            "o\n",
            "n\n",
            "d\n",
            "o\n",
            "!\n"
          ]
        }
      ]
    },
    {
      "cell_type": "markdown",
      "source": [
        "Esercizio 6\n",
        "Scrivere un programma che utilizzi un loop for per stampare tutte le chiavi di un dizionario."
      ],
      "metadata": {
        "id": "JXuesnKp-3g4"
      }
    },
    {
      "cell_type": "code",
      "source": [
        "dizionario = {\"nome\": \"Marco\", \"cognome\": \"Rossi\"}\n",
        "chiavi = dizionario.keys()\n",
        "\n",
        "for i in chiavi:\n",
        "  print(i)"
      ],
      "metadata": {
        "colab": {
          "base_uri": "https://localhost:8080/"
        },
        "id": "rMLQSioI-7RH",
        "outputId": "207d9159-1eec-4fac-cc50-dc65e9e5fe8b"
      },
      "execution_count": 15,
      "outputs": [
        {
          "output_type": "stream",
          "name": "stdout",
          "text": [
            "nome\n",
            "cognome\n"
          ]
        }
      ]
    },
    {
      "cell_type": "markdown",
      "source": [
        "Esercizio 7\n",
        "Scrivere un programma che utilizzi un loop for per stampare tutte le coppie chiave-valore di un dizionario."
      ],
      "metadata": {
        "id": "7En4FWHT_WiC"
      }
    },
    {
      "cell_type": "code",
      "source": [
        "dizionario = {\"nome\": \"Mario\", \"cognome\": \"Rossi\"}\n",
        "for chiave, valore in dizionario.items():\n",
        "    print(chiave, valore)"
      ],
      "metadata": {
        "colab": {
          "base_uri": "https://localhost:8080/"
        },
        "id": "LAP1dDjU_YLx",
        "outputId": "551d00e6-312d-4795-c60d-9b8983b0bbce"
      },
      "execution_count": 21,
      "outputs": [
        {
          "output_type": "stream",
          "name": "stdout",
          "text": [
            "nome Mario\n",
            "cognome Rossi\n"
          ]
        }
      ]
    },
    {
      "cell_type": "markdown",
      "source": [
        "Esercizio 8\n",
        "Scrivere un programma che utilizzi un loop for per stampare tutte le lettere di ogni stringa in una lista."
      ],
      "metadata": {
        "id": "a_-jH7gmAFk-"
      }
    },
    {
      "cell_type": "code",
      "source": [
        "lista_stringhe = [\"ciao\", \"mondo\", \"come\", \"stai\"]\n",
        "for stringa in lista_stringhe:\n",
        "    for lettera in stringa:\n",
        "        print(lettera)"
      ],
      "metadata": {
        "colab": {
          "base_uri": "https://localhost:8080/"
        },
        "id": "YjZfXKu8AI9E",
        "outputId": "805e1418-61fe-4a39-d47c-e7a143314019"
      },
      "execution_count": 22,
      "outputs": [
        {
          "output_type": "stream",
          "name": "stdout",
          "text": [
            "c\n",
            "i\n",
            "a\n",
            "o\n",
            "m\n",
            "o\n",
            "n\n",
            "d\n",
            "o\n",
            "c\n",
            "o\n",
            "m\n",
            "e\n",
            "s\n",
            "t\n",
            "a\n",
            "i\n"
          ]
        }
      ]
    },
    {
      "cell_type": "markdown",
      "source": [
        "Esercizio 9\n",
        "Scrivere un programma che utilizzi un loop for per contare quante volte una lettera compare in una stringa."
      ],
      "metadata": {
        "id": "WXk3nR-2AcYF"
      }
    },
    {
      "cell_type": "code",
      "source": [
        "stringa = \"australopiteco\"\n",
        "lettera_input = input(\"inserisci una lettera: \")\n",
        "count=0\n",
        "for lettera in stringa:\n",
        "    if lettera == lettera_input:\n",
        "      count += 1\n",
        "print(count)"
      ],
      "metadata": {
        "colab": {
          "base_uri": "https://localhost:8080/"
        },
        "id": "kPz_d2vNAef8",
        "outputId": "a883d7b5-74a7-4438-dbb9-99bc7da9e38c"
      },
      "execution_count": 26,
      "outputs": [
        {
          "output_type": "stream",
          "name": "stdout",
          "text": [
            "inserisci una lettera: e\n",
            "1\n"
          ]
        }
      ]
    },
    {
      "cell_type": "markdown",
      "source": [
        "Esercizio 10\n",
        "Scrivere un programma che utilizzi un loop for per calcolare la media di una lista di numeri."
      ],
      "metadata": {
        "id": "B0bzQvS0BZbS"
      }
    },
    {
      "cell_type": "code",
      "source": [
        "numeri = []\n",
        "for i in range(5):\n",
        "    numero = float(input(\"inserisci un numero: \"))\n",
        "    numeri.append(numero)\n",
        "somma = 0\n",
        "for i in numeri:\n",
        "    somma += i\n",
        "media = somma / len(numeri)\n",
        "\n",
        "if media.is_integer():\n",
        "    print(int(media))\n",
        "else:\n",
        "    print(media)\n",
        "\n",
        "#print(somma / len(numeri)) mettere la media nel print per non creare una variabile in piu'"
      ],
      "metadata": {
        "colab": {
          "base_uri": "https://localhost:8080/"
        },
        "id": "fRGXZ00YBbuU",
        "outputId": "162fd2df-f976-46f0-86e2-1b639a3d8852"
      },
      "execution_count": 36,
      "outputs": [
        {
          "output_type": "stream",
          "name": "stdout",
          "text": [
            "inserisci un numero: 1\n",
            "inserisci un numero: 1\n",
            "inserisci un numero: 50\n",
            "inserisci un numero: 2.9\n",
            "inserisci un numero: 3.4\n",
            "11.66\n"
          ]
        }
      ]
    }
  ]
}