{
  "nbformat": 4,
  "nbformat_minor": 0,
  "metadata": {
    "colab": {
      "provenance": [],
      "authorship_tag": "ABX9TyP8WRvJvjkVGrAozoD8dm2f",
      "include_colab_link": true
    },
    "kernelspec": {
      "name": "python3",
      "display_name": "Python 3"
    },
    "language_info": {
      "name": "python"
    }
  },
  "cells": [
    {
      "cell_type": "markdown",
      "metadata": {
        "id": "view-in-github",
        "colab_type": "text"
      },
      "source": [
        "<a href=\"https://colab.research.google.com/github/cifa17/python/blob/main/formattazione_stringhe.ipynb\" target=\"_parent\"><img src=\"https://colab.research.google.com/assets/colab-badge.svg\" alt=\"Open In Colab\"/></a>"
      ]
    },
    {
      "cell_type": "markdown",
      "source": [
        "Esercizio 1\n",
        "Creare due variabili \"nome\" e \"cognome\" e concatenarle a schermo."
      ],
      "metadata": {
        "id": "CNpeY5HU4D3d"
      }
    },
    {
      "cell_type": "code",
      "execution_count": 3,
      "metadata": {
        "colab": {
          "base_uri": "https://localhost:8080/"
        },
        "id": "VfbG_kqN392Q",
        "outputId": "664e1640-58a2-48cc-d512-a2dd47994d6d"
      },
      "outputs": [
        {
          "output_type": "stream",
          "name": "stdout",
          "text": [
            "Antonio Cifarelli\n"
          ]
        }
      ],
      "source": [
        "nome = \"Antonio\"\n",
        "cognome = \"Cifarelli\"\n",
        "print(nome, cognome)"
      ]
    },
    {
      "cell_type": "markdown",
      "source": [
        "Esercizio 2\n",
        "Utilizzare la formattazione delle stringhe per ottenere \"Il numero è: 42\"."
      ],
      "metadata": {
        "id": "TKLzRNoZ4vfd"
      }
    },
    {
      "cell_type": "code",
      "source": [
        "stringa=\"Il numero è: {}\"\n",
        "numero=42\n",
        "print(stringa.format(numero))"
      ],
      "metadata": {
        "colab": {
          "base_uri": "https://localhost:8080/"
        },
        "id": "db0KaLSa5NAh",
        "outputId": "206bdfb4-78ae-4faf-fe80-05d7c611309d"
      },
      "execution_count": 10,
      "outputs": [
        {
          "output_type": "stream",
          "name": "stdout",
          "text": [
            "Il numero è: 42\n"
          ]
        }
      ]
    },
    {
      "cell_type": "code",
      "source": [
        "numero=42\n",
        "print(f\"il numero è: {numero}\")"
      ],
      "metadata": {
        "colab": {
          "base_uri": "https://localhost:8080/"
        },
        "id": "15aso_3l4wdW",
        "outputId": "2d645827-2f41-49c0-b576-474755e433b4"
      },
      "execution_count": 8,
      "outputs": [
        {
          "output_type": "stream",
          "name": "stdout",
          "text": [
            "il numero è: 42\n"
          ]
        }
      ]
    },
    {
      "cell_type": "markdown",
      "source": [
        "Esercizio 3\n",
        "Utilizzare la formattazione delle stringhe per ottenere \"Il numero binario di 42 è 0b101010\". Per il binario utilizzare bin(numero)"
      ],
      "metadata": {
        "id": "s7wSiqf_6S6_"
      }
    },
    {
      "cell_type": "code",
      "source": [
        "numero=42\n",
        "print(f\"il numero binario di {numero} è {bin(numero)}\")"
      ],
      "metadata": {
        "colab": {
          "base_uri": "https://localhost:8080/"
        },
        "id": "mybEMuSg6T-R",
        "outputId": "41dfc8c9-2d86-4543-81db-820c5dbe79af"
      },
      "execution_count": 9,
      "outputs": [
        {
          "output_type": "stream",
          "name": "stdout",
          "text": [
            "il numero binario di 42 è 0b101010\n"
          ]
        }
      ]
    },
    {
      "cell_type": "markdown",
      "source": [
        "Esercizio 4\n",
        "Partendo dalla variabile \"numero\" uguale a 5, utilizzare le f-strings (interpolazione) per ottenere \"Il quadrato di 5 è 25\""
      ],
      "metadata": {
        "id": "1fAaUjlD66NA"
      }
    },
    {
      "cell_type": "code",
      "source": [
        "numero=5\n",
        "print(f\"il quadrato di {numero} è {numero**2}\")"
      ],
      "metadata": {
        "colab": {
          "base_uri": "https://localhost:8080/"
        },
        "id": "00fjoUWQ6-oG",
        "outputId": "0973883b-354a-4f84-db6f-868ad1f30909"
      },
      "execution_count": 11,
      "outputs": [
        {
          "output_type": "stream",
          "name": "stdout",
          "text": [
            "il quadrato di 5 è 25\n"
          ]
        }
      ]
    },
    {
      "cell_type": "code",
      "source": [
        "import math\n",
        "numero=5\n",
        "print(f\"il quadrato di {numero} è {int(math.pow(numero,2))}\")"
      ],
      "metadata": {
        "colab": {
          "base_uri": "https://localhost:8080/"
        },
        "id": "EVJhR8H57ZgC",
        "outputId": "2c314164-bc77-4108-86c7-68fcef05d574"
      },
      "execution_count": 14,
      "outputs": [
        {
          "output_type": "stream",
          "name": "stdout",
          "text": [
            "il quadrato di 5 è 25\n"
          ]
        }
      ]
    },
    {
      "cell_type": "code",
      "source": [
        "import numpy as np\n",
        "numero=5\n",
        "print(f\"il quadrato di {numero} è {np.power(numero,2)}\")"
      ],
      "metadata": {
        "colab": {
          "base_uri": "https://localhost:8080/"
        },
        "id": "UhlLIHgZ7z1Y",
        "outputId": "fa539fca-0999-478c-831b-8686e64667db"
      },
      "execution_count": 13,
      "outputs": [
        {
          "output_type": "stream",
          "name": "stdout",
          "text": [
            "il quadrato di 5 è 25\n"
          ]
        }
      ]
    },
    {
      "cell_type": "markdown",
      "source": [
        "Esercizio 5\n",
        "Partendo da \"nome\" e \"cognome\" utilizzare la formattazione strighe per ottenere \"Il mio nome è {nome} ed il cognome è {cognome}\". Come da esempio dovete fare riferimento al nome delle variabili e non alla posizione usata dentro format."
      ],
      "metadata": {
        "id": "ZmEZQOd19KRP"
      }
    },
    {
      "cell_type": "code",
      "source": [
        "nome = \"Antonio\"\n",
        "cognome = \"Cifarelli\"\n",
        "print(f\"Il mio nome è {nome} ed il cognome è {cognome}\")"
      ],
      "metadata": {
        "colab": {
          "base_uri": "https://localhost:8080/"
        },
        "id": "uE7dnfkZ9K-n",
        "outputId": "dbb1d152-d9f2-473a-bb42-c107b093cc3e"
      },
      "execution_count": 15,
      "outputs": [
        {
          "output_type": "stream",
          "name": "stdout",
          "text": [
            "Il mio nome è Antonio ed il cognome è Cifarelli\n"
          ]
        }
      ]
    },
    {
      "cell_type": "markdown",
      "source": [
        "Esercizio 6\n",
        "Facendo riferimento all'esercizio precedente ottenere il seguente risultato modificando i valori nel format(): \"Il mio nome è LUCA ed il cognome è RoKKi\""
      ],
      "metadata": {
        "id": "2sEsbLO49WXV"
      }
    },
    {
      "cell_type": "code",
      "source": [
        "print(\"Il mio nome è {} ed il cognome è {}\".format(nome.upper(), cognome.replace(\"l\", \"K\")))"
      ],
      "metadata": {
        "colab": {
          "base_uri": "https://localhost:8080/"
        },
        "id": "dXG9M8VK9Yku",
        "outputId": "470cf5f3-187a-40b1-d72b-99b38b77e48a"
      },
      "execution_count": 18,
      "outputs": [
        {
          "output_type": "stream",
          "name": "stdout",
          "text": [
            "Il mio nome è ANTONIO ed il cognome è CifareKKi\n"
          ]
        }
      ]
    },
    {
      "cell_type": "code",
      "source": [
        "print(f\"Il mio nome è {nome.upper()} ed il cognome è {cognome.replace('l', 'K')}\")"
      ],
      "metadata": {
        "colab": {
          "base_uri": "https://localhost:8080/"
        },
        "id": "0NFTuTEtBn9S",
        "outputId": "454daa2c-2bee-4882-892d-d5daf165b2e6"
      },
      "execution_count": 19,
      "outputs": [
        {
          "output_type": "stream",
          "name": "stdout",
          "text": [
            "Il mio nome è ANTONIO ed il cognome è CifareKKi\n"
          ]
        }
      ]
    }
  ]
}