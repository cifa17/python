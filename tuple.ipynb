{
  "nbformat": 4,
  "nbformat_minor": 0,
  "metadata": {
    "colab": {
      "provenance": [],
      "authorship_tag": "ABX9TyPNS9Iu+d7IV1d5qALGauoc",
      "include_colab_link": true
    },
    "kernelspec": {
      "name": "python3",
      "display_name": "Python 3"
    },
    "language_info": {
      "name": "python"
    }
  },
  "cells": [
    {
      "cell_type": "markdown",
      "metadata": {
        "id": "view-in-github",
        "colab_type": "text"
      },
      "source": [
        "<a href=\"https://colab.research.google.com/github/cifa17/python/blob/main/tuple.ipynb\" target=\"_parent\"><img src=\"https://colab.research.google.com/assets/colab-badge.svg\" alt=\"Open In Colab\"/></a>"
      ]
    },
    {
      "cell_type": "markdown",
      "source": [
        "Esercizio 1\n",
        "Creare una tupla vuota e assegnarla a una variabile."
      ],
      "metadata": {
        "id": "crn8n0c10Bvt"
      }
    },
    {
      "cell_type": "code",
      "execution_count": 2,
      "metadata": {
        "colab": {
          "base_uri": "https://localhost:8080/"
        },
        "id": "icx7Hiny0Ao-",
        "outputId": "09e17bd0-5367-4ff8-cbe0-2637c0424d9a"
      },
      "outputs": [
        {
          "output_type": "stream",
          "name": "stdout",
          "text": [
            "()\n"
          ]
        }
      ],
      "source": [
        "tupla_vuota = ()\n",
        "print(tupla_vuota)"
      ]
    },
    {
      "cell_type": "markdown",
      "source": [
        "Esercizio 2\n",
        "Creare una tupla con i seguenti elementi: \"mela\", \"kiwi\", \"lampone\""
      ],
      "metadata": {
        "id": "BUrTSJW_1RCV"
      }
    },
    {
      "cell_type": "code",
      "source": [
        "tupla = (\"mela\", \"kiwi\", \"lampone\")\n",
        "print(tupla)"
      ],
      "metadata": {
        "colab": {
          "base_uri": "https://localhost:8080/"
        },
        "id": "NAs1UztX1TLI",
        "outputId": "9548de8b-d582-47d1-89ae-35c3c805fc45"
      },
      "execution_count": 3,
      "outputs": [
        {
          "output_type": "stream",
          "name": "stdout",
          "text": [
            "('mela', 'kiwi', 'lampone')\n"
          ]
        }
      ]
    },
    {
      "cell_type": "markdown",
      "source": [
        "Esercizio 3\n",
        "Accedere all'elemento \"kiwi\" della tupla precedente"
      ],
      "metadata": {
        "id": "JPiXnezN1lPI"
      }
    },
    {
      "cell_type": "code",
      "source": [
        "tupla = (\"mela\", \"kiwi\", \"lampone\")\n",
        "print(tupla[1])"
      ],
      "metadata": {
        "colab": {
          "base_uri": "https://localhost:8080/"
        },
        "id": "8q3RtzAk1oMY",
        "outputId": "4a680d76-bdcb-45f1-c51d-43915261bab7"
      },
      "execution_count": 4,
      "outputs": [
        {
          "output_type": "stream",
          "name": "stdout",
          "text": [
            "kiwi\n"
          ]
        }
      ]
    },
    {
      "cell_type": "markdown",
      "source": [
        "Esercizio 4\n",
        "Creare una nuova tupla che contenga solo i primi due elementi della tupla precedente."
      ],
      "metadata": {
        "id": "NKXENe8q1vn-"
      }
    },
    {
      "cell_type": "code",
      "source": [
        "tupla = (\"mela\", \"kiwi\", \"lampone\")\n",
        "tupla2 = tupla[:2]\n",
        "print(tupla2)"
      ],
      "metadata": {
        "colab": {
          "base_uri": "https://localhost:8080/"
        },
        "id": "Q97I0YP_1wRP",
        "outputId": "ff2fd931-ccd7-43cc-acc7-176d74131fba"
      },
      "execution_count": 5,
      "outputs": [
        {
          "output_type": "stream",
          "name": "stdout",
          "text": [
            "('mela', 'kiwi')\n"
          ]
        }
      ]
    },
    {
      "cell_type": "markdown",
      "source": [
        "Esercizio 5\n",
        "Verificare se l'elemento \"ananas\" è presente nella tupla precedente"
      ],
      "metadata": {
        "id": "4_A_zy302BTP"
      }
    },
    {
      "cell_type": "code",
      "source": [
        "tupla = (\"mela\", \"kiwi\", \"lampone\")\n",
        "if \"ananas\" in tupla:\n",
        "  print(\"ananas presente nella tupla\")\n",
        "else:\n",
        "  print(\"ananas non presente nella tupla\")"
      ],
      "metadata": {
        "colab": {
          "base_uri": "https://localhost:8080/"
        },
        "id": "whWm3xVh2H8-",
        "outputId": "12e0ea9e-93ae-4b89-b479-40852a3b38a8"
      },
      "execution_count": 8,
      "outputs": [
        {
          "output_type": "stream",
          "name": "stdout",
          "text": [
            "ananas non presente nella tupla\n"
          ]
        }
      ]
    },
    {
      "cell_type": "markdown",
      "source": [
        "Esercizio 6\n",
        "Creare una nuova tupla concatenando la tupla precedente con la tupla (\"pesca\", \"arancia\")."
      ],
      "metadata": {
        "id": "S695bVrg4plq"
      }
    },
    {
      "cell_type": "code",
      "source": [
        "tupla = (\"mela\", \"kiwi\", \"lampone\")\n",
        "tupla2 = (\"pesca\", \"arancia\")\n",
        "tupla3 = tupla + tupla2\n",
        "print(tupla3)"
      ],
      "metadata": {
        "colab": {
          "base_uri": "https://localhost:8080/"
        },
        "id": "4PK7r0uU4sLM",
        "outputId": "7aac5cfd-9ae7-4807-f5ac-11c4d83087ac"
      },
      "execution_count": 9,
      "outputs": [
        {
          "output_type": "stream",
          "name": "stdout",
          "text": [
            "('mela', 'kiwi', 'lampone', 'pesca', 'arancia')\n"
          ]
        }
      ]
    },
    {
      "cell_type": "markdown",
      "source": [
        "Esercizio 8\n",
        "Creare una tupla contenente i numeri interi da 1 a 5."
      ],
      "metadata": {
        "id": "oncfvUAZ43ln"
      }
    },
    {
      "cell_type": "code",
      "source": [
        "numeri = (1, 2, 3, 4, 5)\n",
        "print(numeri)"
      ],
      "metadata": {
        "colab": {
          "base_uri": "https://localhost:8080/"
        },
        "id": "wZnjl-Bx5NQd",
        "outputId": "c9339b58-662a-4825-b795-38833b2b97a9"
      },
      "execution_count": 10,
      "outputs": [
        {
          "output_type": "stream",
          "name": "stdout",
          "text": [
            "(1, 2, 3, 4, 5)\n"
          ]
        }
      ]
    },
    {
      "cell_type": "markdown",
      "source": [
        "Esercizio 9 (difficile)\n",
        "Creare una tupla contenente il quadrato dei numeri interi da 1 a 5."
      ],
      "metadata": {
        "id": "mspTtGpP5WXy"
      }
    },
    {
      "cell_type": "code",
      "source": [
        "numeri = (1, 2, 3, 4, 5)\n",
        "quadrati = tuple(x**2 for x in numeri) # utilizzo dei generatori\n",
        "print(quadrati)"
      ],
      "metadata": {
        "colab": {
          "base_uri": "https://localhost:8080/"
        },
        "id": "sh7CZuYZ5Z0m",
        "outputId": "d9a1507c-5f57-4d4a-d499-a1aebdffca3f"
      },
      "execution_count": 11,
      "outputs": [
        {
          "output_type": "stream",
          "name": "stdout",
          "text": [
            "(1, 4, 9, 16, 25)\n"
          ]
        }
      ]
    },
    {
      "cell_type": "markdown",
      "source": [
        "Esercizio 10\n",
        "Contare il numero di occorrenze dell'elemento \"mela\" nella tupla precedente."
      ],
      "metadata": {
        "id": "LuqN2qVI6bxn"
      }
    },
    {
      "cell_type": "code",
      "source": [
        "frutta = (\"mela\", \"kiwi\", \"lampone\", \"mela\")\n",
        "print(frutta.count(\"mela\"))"
      ],
      "metadata": {
        "colab": {
          "base_uri": "https://localhost:8080/"
        },
        "id": "n0JgVsek6dPq",
        "outputId": "ef79f6a5-9af4-444e-fdd0-1404a98b4a78"
      },
      "execution_count": 12,
      "outputs": [
        {
          "output_type": "stream",
          "name": "stdout",
          "text": [
            "2\n"
          ]
        }
      ]
    }
  ]
}