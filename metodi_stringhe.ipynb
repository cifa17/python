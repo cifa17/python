{
  "nbformat": 4,
  "nbformat_minor": 0,
  "metadata": {
    "colab": {
      "provenance": [],
      "authorship_tag": "ABX9TyM/B6rCftvrGVms3yZMaR+E",
      "include_colab_link": true
    },
    "kernelspec": {
      "name": "python3",
      "display_name": "Python 3"
    },
    "language_info": {
      "name": "python"
    }
  },
  "cells": [
    {
      "cell_type": "markdown",
      "metadata": {
        "id": "view-in-github",
        "colab_type": "text"
      },
      "source": [
        "<a href=\"https://colab.research.google.com/github/cifa17/python/blob/main/metodi_stringhe.ipynb\" target=\"_parent\"><img src=\"https://colab.research.google.com/assets/colab-badge.svg\" alt=\"Open In Colab\"/></a>"
      ]
    },
    {
      "cell_type": "markdown",
      "source": [
        "Esercizio 1\n",
        "Assegnare una stringa \"ciao mondo\" ad una variabile \"stringa\" e utilizzare il metodo upper() per convertirla in maiuscolo in una nuova variabile."
      ],
      "metadata": {
        "id": "r2qZHKuSqH4R"
      }
    },
    {
      "cell_type": "code",
      "execution_count": 1,
      "metadata": {
        "colab": {
          "base_uri": "https://localhost:8080/"
        },
        "id": "UF-KxKqoqD96",
        "outputId": "07a36777-7593-4409-84dd-c6a38496e266"
      },
      "outputs": [
        {
          "output_type": "stream",
          "name": "stdout",
          "text": [
            "CIAO MONDO\n"
          ]
        }
      ],
      "source": [
        "stringa = \"ciao mondo\"\n",
        "maiuscolo = stringa.upper()\n",
        "print(maiuscolo)"
      ]
    },
    {
      "cell_type": "code",
      "source": [
        "stringa = \"ciao mondo\"\n",
        "print(stringa.upper())"
      ],
      "metadata": {
        "colab": {
          "base_uri": "https://localhost:8080/"
        },
        "id": "D3YbPZpNrRUy",
        "outputId": "0bd46e31-bce3-4741-98e2-013c9377f24d"
      },
      "execution_count": 5,
      "outputs": [
        {
          "output_type": "stream",
          "name": "stdout",
          "text": [
            "CIAO MONDO\n"
          ]
        }
      ]
    },
    {
      "cell_type": "markdown",
      "source": [
        "Esercizio 2\n",
        "Assegnare una stringa \"Benvenuti a Roma\" ad una variabile \"stringa\" e utilizzare il metodo lower() per convertirla in minuscolo in una nuova variabile."
      ],
      "metadata": {
        "id": "R4ptrPzNqbME"
      }
    },
    {
      "cell_type": "code",
      "source": [
        "stringa = \"Benvenuti a Roma\"\n",
        "minuscolo = stringa.lower()\n",
        "print(minuscolo)"
      ],
      "metadata": {
        "colab": {
          "base_uri": "https://localhost:8080/"
        },
        "id": "Eolwzg-fq5zT",
        "outputId": "8da7bc90-f677-4be8-9edd-c35a92b629ce"
      },
      "execution_count": 3,
      "outputs": [
        {
          "output_type": "stream",
          "name": "stdout",
          "text": [
            "benvenuti a roma\n"
          ]
        }
      ]
    },
    {
      "cell_type": "code",
      "source": [
        "stringa = \"Benvenuti a Roma\"\n",
        "print(stringa.lower())"
      ],
      "metadata": {
        "colab": {
          "base_uri": "https://localhost:8080/"
        },
        "id": "e6u2e3hwrKu-",
        "outputId": "cc2f39c9-3b3e-4f11-b4ad-4346254cd789"
      },
      "execution_count": 4,
      "outputs": [
        {
          "output_type": "stream",
          "name": "stdout",
          "text": [
            "benvenuti a roma\n"
          ]
        }
      ]
    },
    {
      "cell_type": "markdown",
      "source": [
        "utilizzo pratico lower"
      ],
      "metadata": {
        "id": "yDTLIytnrXmE"
      }
    },
    {
      "cell_type": "code",
      "source": [
        "sentinella = \"\"\n",
        "while sentinella != \"exit\":\n",
        "  numero = input(\"Inserisci un numero: \")\n",
        "  print(numero)\n",
        "  sentinella = input(\"Inserisci exit per uscire: \").lower()"
      ],
      "metadata": {
        "colab": {
          "base_uri": "https://localhost:8080/"
        },
        "id": "O4fHoiF-rZlr",
        "outputId": "442d2585-f6ba-4dc9-bbc8-931b63cbbe6b"
      },
      "execution_count": 8,
      "outputs": [
        {
          "name": "stdout",
          "output_type": "stream",
          "text": [
            "Inserisci un numero: 10\n",
            "10\n",
            "Inserisci exit per uscire: ExIt\n"
          ]
        }
      ]
    },
    {
      "cell_type": "markdown",
      "source": [
        "La funzione \"eval()\" in python è vulnerabile a code injection quando gli input dell'utente non vengono sanificati. Abbiamo qui un esempio."
      ],
      "metadata": {
        "id": "pSbKGf6ut2zm"
      }
    },
    {
      "cell_type": "code",
      "source": [
        "import os\n",
        "\n",
        "files = os.listdir(\".\") # \".\" indica la directory corrente\n",
        "print(files)\n",
        "\n",
        "espressione2 = \"2*2\" # Questa viene utilizzata come esempio per mostrare il corretto funzionamento dell'app\n",
        "result= eval(espressione2)\n",
        "print(result)\n",
        "\n",
        "espressione = input(\"Enter expression: \") # Qui possiamo provare la nostra code injection con \"__import__('os').system('any arbitrary command')\"\n",
        "result2 = eval(espressione)\n",
        "print(result2)\n",
        "\n",
        "files = os.listdir(\".\") # \".\" indica la directory corrente\n",
        "print(files)\n"
      ],
      "metadata": {
        "id": "wVsCGHPJt4FQ"
      },
      "execution_count": null,
      "outputs": []
    },
    {
      "cell_type": "markdown",
      "source": [
        "Esercizio 3\n",
        "Assegnare una stringa \"Il meglio deve ancora venire\" ad una variabile \"stringa\" e utilizzare il metodo split() per dividere la stringa in una lista di parole."
      ],
      "metadata": {
        "id": "oe5en56Nvwlx"
      }
    },
    {
      "cell_type": "code",
      "source": [
        "stringa= \"Il meglio deve ancora venire\"\n",
        "lista = stringa.split()\n",
        "print(lista)"
      ],
      "metadata": {
        "colab": {
          "base_uri": "https://localhost:8080/"
        },
        "id": "flBog0-IvxiY",
        "outputId": "b614fb7a-1ca1-4ed0-d785-9c0931fa0357"
      },
      "execution_count": 9,
      "outputs": [
        {
          "output_type": "stream",
          "name": "stdout",
          "text": [
            "['Il', 'meglio', 'deve', 'ancora', 'venire']\n"
          ]
        }
      ]
    },
    {
      "cell_type": "code",
      "source": [
        "stringa= \"Il meglio deve ancora venire\"\n",
        "print(stringa.split())\n",
        "# print(stringa.split(\",\")) puoi splittare le parole anche in base alla virgola (quello di default e' lo spazio)"
      ],
      "metadata": {
        "colab": {
          "base_uri": "https://localhost:8080/"
        },
        "id": "ZifnMPcYv5aw",
        "outputId": "bce6f5dd-13e9-406a-92a1-3ad8146df867"
      },
      "execution_count": 14,
      "outputs": [
        {
          "output_type": "stream",
          "name": "stdout",
          "text": [
            "['Il meglio', ' deve', ' ancora venire']\n"
          ]
        }
      ]
    },
    {
      "cell_type": "markdown",
      "source": [
        "Esercizio 4\n",
        "Assegnare una stringa \"Hello World\" ad una variabile \"stringa\" e utilizzare il metodo replace() per sostituire \"World\" con \"Python\"."
      ],
      "metadata": {
        "id": "g2OqcnDFwrc5"
      }
    },
    {
      "cell_type": "code",
      "source": [
        "stringa= \"Hello World\"\n",
        "replica= stringa.replace(\"World\",\"Python\")\n",
        "print(replica)"
      ],
      "metadata": {
        "colab": {
          "base_uri": "https://localhost:8080/"
        },
        "id": "tZ-1-YhAw8IR",
        "outputId": "b8363305-f50b-4589-f080-97ce5ef1f7b2"
      },
      "execution_count": 16,
      "outputs": [
        {
          "output_type": "stream",
          "name": "stdout",
          "text": [
            "Hello Python\n"
          ]
        }
      ]
    },
    {
      "cell_type": "code",
      "source": [
        "stringa=\"Hello World\"\n",
        "print(stringa.replace(\"World\",\"Python\"))"
      ],
      "metadata": {
        "colab": {
          "base_uri": "https://localhost:8080/"
        },
        "id": "rMS_xdN3wtwZ",
        "outputId": "2910aed5-6629-48bc-e38e-60275f8fa0c4"
      },
      "execution_count": 18,
      "outputs": [
        {
          "output_type": "stream",
          "name": "stdout",
          "text": [
            "Hello Python\n"
          ]
        }
      ]
    },
    {
      "cell_type": "markdown",
      "source": [
        "Esercizio 5\n",
        "Assegnare una stringa \" Ciao \" ad una variabile \"stringa\" e utilizzare il metodo strip() per rimuovere gli spazi vuoti all'inizio e alla fine della stringa.."
      ],
      "metadata": {
        "id": "7S9PUuaB2iW-"
      }
    },
    {
      "cell_type": "code",
      "source": [
        "stringa = \" Ciao \"\n",
        "replica = stringa.strip() #questa funzione rimuove SOLO gli spazi 'esterni' alla stringa\n",
        "print(replica)"
      ],
      "metadata": {
        "colab": {
          "base_uri": "https://localhost:8080/"
        },
        "id": "CdMpj3__2jtq",
        "outputId": "039de97f-69e5-4bc7-d275-7c085b9d30a4"
      },
      "execution_count": 32,
      "outputs": [
        {
          "output_type": "stream",
          "name": "stdout",
          "text": [
            "Ciao\n"
          ]
        }
      ]
    },
    {
      "cell_type": "markdown",
      "source": [
        "Esercizio 6 Assegnare una stringa \"abcdefg\" ad una variabile \"stringa\" ed estrarre i primi tre caratteri. (funzione slice)"
      ],
      "metadata": {
        "id": "NTOgGc_wxNEs"
      }
    },
    {
      "cell_type": "code",
      "source": [
        "stringa= \"abcdefg\"\n",
        "print(stringa[0:3])"
      ],
      "metadata": {
        "colab": {
          "base_uri": "https://localhost:8080/"
        },
        "id": "oUwOa0SCxpif",
        "outputId": "7c5f221d-8901-419b-fec5-2822c0ec7768"
      },
      "execution_count": 20,
      "outputs": [
        {
          "output_type": "stream",
          "name": "stdout",
          "text": [
            "abc\n"
          ]
        }
      ]
    },
    {
      "cell_type": "code",
      "source": [
        "stringa= \"abcdefg\"\n",
        "print(stringa[:3]) # basta solo :3 perche' di default gli indici iniziano da zero"
      ],
      "metadata": {
        "colab": {
          "base_uri": "https://localhost:8080/"
        },
        "id": "FQf-Z1EBxStN",
        "outputId": "752057b1-970a-47b3-ed7d-5cae99004e7e"
      },
      "execution_count": 19,
      "outputs": [
        {
          "output_type": "stream",
          "name": "stdout",
          "text": [
            "abc\n"
          ]
        }
      ]
    },
    {
      "cell_type": "markdown",
      "source": [
        "Esercizio 7\n",
        "Assegnare una stringa \"python\" ad una variabile \"stringa\" e utilizzare il metodo startswith() per verificare se la stringa inizia con \"py\"."
      ],
      "metadata": {
        "id": "XbiE1tHtyG5z"
      }
    },
    {
      "cell_type": "code",
      "source": [
        "stringa=\"python\"\n",
        "booleano = stringa.startswith(\"PY\".lower())\n",
        "print(booleano)"
      ],
      "metadata": {
        "colab": {
          "base_uri": "https://localhost:8080/"
        },
        "id": "Mp_QnYGo0Dsn",
        "outputId": "f2ff8d86-b487-48f1-dddd-c4e026d3e29a"
      },
      "execution_count": 22,
      "outputs": [
        {
          "output_type": "stream",
          "name": "stdout",
          "text": [
            "True\n"
          ]
        }
      ]
    },
    {
      "cell_type": "markdown",
      "source": [
        "Esercizio 8\n",
        "Assegnare una stringa \"Ciao mondo\" ad una variabile \"stringa\" e utilizzare il metodo count() per contare il numero di volte in cui la lettera \"o\" appare nella stringa."
      ],
      "metadata": {
        "id": "Cd4J1OOL0lEe"
      }
    },
    {
      "cell_type": "code",
      "source": [
        "stringa=\"Ciao mondo\"\n",
        "conteggio=stringa.count(\"o\") #questa funzione puo' essere utilizzata anche per contare le parole es. conteggio=stringa.count(\"mondo\")\n",
        "print(\"la lettera \\\"o\\\" e' presente\", conteggio, \"volte\")"
      ],
      "metadata": {
        "colab": {
          "base_uri": "https://localhost:8080/"
        },
        "id": "3MoAFZDu0qNp",
        "outputId": "b1133988-c994-4672-affe-82b1d9402029"
      },
      "execution_count": 26,
      "outputs": [
        {
          "output_type": "stream",
          "name": "stdout",
          "text": [
            "la lettera \"o\" e' presente 3 volte\n"
          ]
        }
      ]
    },
    {
      "cell_type": "markdown",
      "source": [
        "Esercizio 9\n",
        "Assegnare una stringa \"Ciao mondo\" ad una variabile \"stringa\". Mandare quindi a schermo gli ultimi 5 caratteri della stringa in maiuscolo, sostituendo il carattere \"o\" con \"k\"."
      ],
      "metadata": {
        "id": "CbxZLM2-1SOa"
      }
    },
    {
      "cell_type": "code",
      "source": [
        "stringa=\"Ciao mondo\"\n",
        "print(stringa[-5:].upper().replace(\"O\",\"K\"))"
      ],
      "metadata": {
        "colab": {
          "base_uri": "https://localhost:8080/"
        },
        "id": "w5RJsynv15og",
        "outputId": "9a8a687b-298b-469c-978e-509ca0694192"
      },
      "execution_count": 33,
      "outputs": [
        {
          "output_type": "stream",
          "name": "stdout",
          "text": [
            "MKNDK\n"
          ]
        }
      ]
    }
  ]
}