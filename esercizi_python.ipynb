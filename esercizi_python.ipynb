{
  "nbformat": 4,
  "nbformat_minor": 0,
  "metadata": {
    "colab": {
      "provenance": []
    },
    "kernelspec": {
      "name": "python3",
      "display_name": "Python 3"
    },
    "language_info": {
      "name": "python"
    }
  },
  "cells": [
    {
      "cell_type": "markdown",
      "source": [
        "Esercizio 1\n",
        "Dichiarare una variabile \"nome\" e assegnargli il tuo nome. Mandare a schermo."
      ],
      "metadata": {
        "id": "oUMSy2EicElQ"
      }
    },
    {
      "cell_type": "code",
      "execution_count": 1,
      "metadata": {
        "colab": {
          "base_uri": "https://localhost:8080/"
        },
        "id": "vSAuIPQ7bvg9",
        "outputId": "b96a3e7d-6ef2-4848-ea2a-5d4aa3613e7e"
      },
      "outputs": [
        {
          "output_type": "stream",
          "name": "stdout",
          "text": [
            "Antonio\n"
          ]
        }
      ],
      "source": [
        "nome=\"Antonio\"\n",
        "print(nome)"
      ]
    },
    {
      "cell_type": "markdown",
      "source": [
        "Esercizio 2\n",
        "Dichiarare una variabile \"eta\" e assegnargli la tua età. Mandare a schermo."
      ],
      "metadata": {
        "id": "q4ic5uMFcGpg"
      }
    },
    {
      "cell_type": "code",
      "source": [
        "eta = 22\n",
        "print(eta)"
      ],
      "metadata": {
        "colab": {
          "base_uri": "https://localhost:8080/"
        },
        "id": "0WoTBgBycVeQ",
        "outputId": "01299ea1-3acf-45ae-f028-c0dd00e65337"
      },
      "execution_count": 2,
      "outputs": [
        {
          "output_type": "stream",
          "name": "stdout",
          "text": [
            "22\n"
          ]
        }
      ]
    },
    {
      "cell_type": "markdown",
      "source": [
        "Esercizio 3\n",
        "Dichiarare una variabile \"pi\" e assegnargli il valore di pi greco (3,14159). Mandare a schermo.\n",
        "\n"
      ],
      "metadata": {
        "id": "miRKWGTzchgl"
      }
    },
    {
      "cell_type": "code",
      "source": [
        "import math\n",
        "print(math.pi)"
      ],
      "metadata": {
        "colab": {
          "base_uri": "https://localhost:8080/"
        },
        "id": "tADpK7JNePBz",
        "outputId": "cb11e285-7f04-4c8b-bdfc-af9047260ec9"
      },
      "execution_count": 9,
      "outputs": [
        {
          "output_type": "stream",
          "name": "stdout",
          "text": [
            "3.141592653589793\n"
          ]
        }
      ]
    },
    {
      "cell_type": "markdown",
      "source": [
        "Esercizio 4\n",
        "Creare una variabile \"lunghezza\" e assegnargli un valore, quindi riassegnare la variabile a 15. Mandare a schermo."
      ],
      "metadata": {
        "id": "5flW_8hPfYlG"
      }
    },
    {
      "cell_type": "code",
      "source": [
        "lunghezza = 10\n",
        "print(lunghezza)\n",
        "lunghezza = 15\n",
        "print(lunghezza)"
      ],
      "metadata": {
        "colab": {
          "base_uri": "https://localhost:8080/"
        },
        "id": "WiPHVbgxfZZ3",
        "outputId": "55a34419-da49-48a0-d277-2b35344c43dc"
      },
      "execution_count": 11,
      "outputs": [
        {
          "output_type": "stream",
          "name": "stdout",
          "text": [
            "10\n",
            "15\n"
          ]
        }
      ]
    },
    {
      "cell_type": "markdown",
      "source": [
        "Esercizio 5\n",
        "Creare una variabile \"nome_completo\" e assegnargli una stringa contenente il tuo nome e cognome. Mandare a schermo"
      ],
      "metadata": {
        "id": "ZM3J5T7vgc-P"
      }
    },
    {
      "cell_type": "code",
      "source": [
        "nome_completo = \"Antonio Cifarelli\"\n",
        "print(nome_completo)"
      ],
      "metadata": {
        "colab": {
          "base_uri": "https://localhost:8080/"
        },
        "id": "Fw-HO3kIgeMW",
        "outputId": "a83827cd-215b-4928-ebd7-0a63090deac7"
      },
      "execution_count": 13,
      "outputs": [
        {
          "output_type": "stream",
          "name": "stdout",
          "text": [
            "Antonio Cifarelli\n"
          ]
        }
      ]
    },
    {
      "cell_type": "code",
      "source": [
        "nome=\"Antonio\"\n",
        "cognome=\"Cifarelli\"\n",
        "nome_completo=nome+\" \"+cognome\n",
        "print(nome_completo)"
      ],
      "metadata": {
        "colab": {
          "base_uri": "https://localhost:8080/"
        },
        "id": "K2R3p9pVhjeV",
        "outputId": "f89c163f-e55c-4f4d-ebb2-b2210ff4b2f5"
      },
      "execution_count": 14,
      "outputs": [
        {
          "output_type": "stream",
          "name": "stdout",
          "text": [
            "Antonio Cifarelli\n"
          ]
        }
      ]
    },
    {
      "cell_type": "markdown",
      "source": [
        "Esercizio 6\n",
        "Creare una variabile \"eta_futura\" e assegnargli il valore dell'età che avrai tra 10 anni (utilizzando la variabile età già esistente). Mandare a schermo.\n",
        "\n"
      ],
      "metadata": {
        "id": "LJn7-yrFhu7S"
      }
    },
    {
      "cell_type": "code",
      "source": [
        "eta_futura = eta + 10\n",
        "print(eta_futura)"
      ],
      "metadata": {
        "colab": {
          "base_uri": "https://localhost:8080/"
        },
        "id": "iX8Oz9Wehv5q",
        "outputId": "57043679-2ec1-4ffb-c663-c852a3edf1b5"
      },
      "execution_count": 15,
      "outputs": [
        {
          "output_type": "stream",
          "name": "stdout",
          "text": [
            "32\n"
          ]
        }
      ]
    },
    {
      "cell_type": "markdown",
      "source": [
        "Esercizio 7\n",
        "Creare delle variabili \"nome\", \"cognome\" ed \"anno_di_nascita\" ed assegnargli i valori. Mandare a schermo in un unico print. Sovrascrivere tutte le variabili e rimandare a schermo una seconda volta.\n",
        "\n"
      ],
      "metadata": {
        "id": "FpokJf26inyu"
      }
    },
    {
      "cell_type": "code",
      "source": [
        "nome = \"Antonio\"\n",
        "cognome = \"Cifarelli\"\n",
        "anno_di_nascita = 2003\n",
        "print(nome, cognome, anno_di_nascita)\n",
        "print(nome + \" \" + cognome + \" \" + str(anno_di_nascita))"
      ],
      "metadata": {
        "colab": {
          "base_uri": "https://localhost:8080/"
        },
        "id": "mtnOBWvyioxJ",
        "outputId": "84172aff-cde4-46df-db8b-6ba99eeea7f7"
      },
      "execution_count": 18,
      "outputs": [
        {
          "output_type": "stream",
          "name": "stdout",
          "text": [
            "Antonio Cifarelli 2003\n",
            "Antonio Cifarelli 2003\n"
          ]
        }
      ]
    },
    {
      "cell_type": "markdown",
      "source": [
        "Esercizio 8\n",
        "Creare una variabile eta_attuale e assegnargli il valore dell'età che hai attualmente, calcolandola in base all'anno corrente. Mandare a schermo eta_attuale"
      ],
      "metadata": {
        "id": "N9UyAfNjlRMs"
      }
    },
    {
      "cell_type": "code",
      "source": [
        "eta_attuale = 2025 - anno_di_nascita\n",
        "print(eta_attuale)"
      ],
      "metadata": {
        "colab": {
          "base_uri": "https://localhost:8080/"
        },
        "id": "bFInsd1xlR3H",
        "outputId": "ce62a503-160a-4007-f580-6de60898a1e6"
      },
      "execution_count": 19,
      "outputs": [
        {
          "output_type": "stream",
          "name": "stdout",
          "text": [
            "22\n"
          ]
        }
      ]
    },
    {
      "cell_type": "markdown",
      "source": [
        "NUOVI ESERCIZI\n"
      ],
      "metadata": {
        "id": "Chls2wEB6iqs"
      }
    },
    {
      "cell_type": "markdown",
      "source": [
        "Esercizio 1\n",
        "Dichiarare una variabile \"numero_intero\" e assegnargli un valore intero. Mandare a schermo il tipo della variabile per conferma."
      ],
      "metadata": {
        "id": "Bfaf5Vmj6mbz"
      }
    },
    {
      "cell_type": "code",
      "source": [
        "numero_intero=5\n",
        "print(type(numero_intero))"
      ],
      "metadata": {
        "colab": {
          "base_uri": "https://localhost:8080/"
        },
        "id": "qoGaqwln6qNG",
        "outputId": "e5261821-d711-4411-f267-6e1120a30d4b"
      },
      "execution_count": 20,
      "outputs": [
        {
          "output_type": "stream",
          "name": "stdout",
          "text": [
            "<class 'int'>\n"
          ]
        }
      ]
    },
    {
      "cell_type": "markdown",
      "source": [
        "Esercizio 2\n",
        "Dichiarare una variabile \"numero_decimale\" e assegnargli un valore float. Mandare a schermo il tipo della variabile per conferma."
      ],
      "metadata": {
        "id": "Ch0zbYRk63y0"
      }
    },
    {
      "cell_type": "code",
      "source": [
        "numero_decimale=5.5\n",
        "print(type(numero_decimale))"
      ],
      "metadata": {
        "colab": {
          "base_uri": "https://localhost:8080/"
        },
        "id": "prZrVd3W65A7",
        "outputId": "6ab8cfed-2225-4767-a49d-9740a108183a"
      },
      "execution_count": 21,
      "outputs": [
        {
          "output_type": "stream",
          "name": "stdout",
          "text": [
            "<class 'float'>\n"
          ]
        }
      ]
    },
    {
      "cell_type": "markdown",
      "source": [
        "Esercizio 3\n",
        "Creare una variabile \"testo\" e assegnargli una stringa contenente una frase. Mandare a schermo il tipo della variabile per conferma."
      ],
      "metadata": {
        "id": "I7uowWzs7Alo"
      }
    },
    {
      "cell_type": "code",
      "source": [
        "testo = \"hello world!\"\n",
        "print(type(testo))"
      ],
      "metadata": {
        "colab": {
          "base_uri": "https://localhost:8080/"
        },
        "id": "ZzPZd0dK7BUE",
        "outputId": "a65ee1f4-0a91-4554-ae7f-26df14792ad1"
      },
      "execution_count": 22,
      "outputs": [
        {
          "output_type": "stream",
          "name": "stdout",
          "text": [
            "<class 'str'>\n"
          ]
        }
      ]
    },
    {
      "cell_type": "markdown",
      "source": [
        "Esercizio 4\n",
        "Creare una variabile \"valore_booleano\" e assegnargli un valore booleano. Mandare a schermo il tipo della variabile per conferma."
      ],
      "metadata": {
        "id": "_TsWPsnx7Jp3"
      }
    },
    {
      "cell_type": "code",
      "source": [
        "valore_booleano = True\n",
        "print(type(valore_booleano))"
      ],
      "metadata": {
        "colab": {
          "base_uri": "https://localhost:8080/"
        },
        "id": "IDEm20NU7M26",
        "outputId": "fa6f0b25-96ce-44d9-926f-f2c1aaff80ba"
      },
      "execution_count": 23,
      "outputs": [
        {
          "output_type": "stream",
          "name": "stdout",
          "text": [
            "<class 'bool'>\n"
          ]
        }
      ]
    },
    {
      "cell_type": "markdown",
      "source": [
        "Esercizio 5\n",
        "Creare una lista \"numeri\" contenente 5 numeri interi. Mandare a schermo il tipo della variabile per conferma."
      ],
      "metadata": {
        "id": "mvtQrkJK7TNn"
      }
    },
    {
      "cell_type": "code",
      "source": [
        "numeri = [1,2,3,4,5]\n",
        "print(type(numeri))"
      ],
      "metadata": {
        "colab": {
          "base_uri": "https://localhost:8080/"
        },
        "id": "PYdRu-e87UOX",
        "outputId": "a8ae7266-3dcb-4de2-c686-6fe370987674"
      },
      "execution_count": 25,
      "outputs": [
        {
          "output_type": "stream",
          "name": "stdout",
          "text": [
            "<class 'list'>\n"
          ]
        }
      ]
    },
    {
      "cell_type": "markdown",
      "source": [
        "Esercizio 6\n",
        "Creare una lista \"misti\" contenente un numero intero, un numero float, una stringa e un valore booleano. Mandare a schermo il tipo della variabile per conferma."
      ],
      "metadata": {
        "id": "rCa4lUmL7rBs"
      }
    },
    {
      "cell_type": "code",
      "source": [
        "misti = [1,2.5,\"hello\",True]\n",
        "print(type(misti))"
      ],
      "metadata": {
        "colab": {
          "base_uri": "https://localhost:8080/"
        },
        "id": "2d8sHf-n7tnP",
        "outputId": "89acc151-3605-4576-8a18-ab2a77873cf4"
      },
      "execution_count": 26,
      "outputs": [
        {
          "output_type": "stream",
          "name": "stdout",
          "text": [
            "<class 'list'>\n"
          ]
        }
      ]
    },
    {
      "cell_type": "markdown",
      "source": [
        "Esercizio 7\n",
        "Creare una tupla \"giorni_settimana\" contenente i giorni della settimana come stringhe. Mandare a schermo il tipo della variabile per conferma."
      ],
      "metadata": {
        "id": "-FdzQBG673_i"
      }
    },
    {
      "cell_type": "code",
      "source": [
        "giorni_settimana = (\"lunedi\",\"martedi\",\"mercoledi\",\"giovedi\",\"venerdi\",\"sabato\",\"domenica\")\n",
        "print(type(giorni_settimana))"
      ],
      "metadata": {
        "colab": {
          "base_uri": "https://localhost:8080/"
        },
        "id": "43cmLdNZ741t",
        "outputId": "389ef502-6be7-4a1d-9e7f-6f8414d4b482"
      },
      "execution_count": 27,
      "outputs": [
        {
          "output_type": "stream",
          "name": "stdout",
          "text": [
            "<class 'tuple'>\n"
          ]
        }
      ]
    },
    {
      "cell_type": "markdown",
      "source": [
        "Esercizio 8\n",
        "Creare un dizionario \"informazioni_personali\" contenente il tuo nome, cognome, età e città di residenza. Mandare a schermo il tipo della variabile per conferma."
      ],
      "metadata": {
        "id": "B9gSptUB8BAK"
      }
    },
    {
      "cell_type": "code",
      "source": [
        "informazioni_personali = {\"nome\":\"Antonio\",\"cognome\":\"Cifarelli\",\"età\":22,\"citta\":\"Napoli\"}\n",
        "print(type(informazioni_personali))"
      ],
      "metadata": {
        "colab": {
          "base_uri": "https://localhost:8080/"
        },
        "id": "vtxnr7-C8Brd",
        "outputId": "f26f8ade-bdb6-416e-a3a3-cb70ff2730d3"
      },
      "execution_count": 28,
      "outputs": [
        {
          "output_type": "stream",
          "name": "stdout",
          "text": [
            "<class 'dict'>\n"
          ]
        }
      ]
    }
  ]
}