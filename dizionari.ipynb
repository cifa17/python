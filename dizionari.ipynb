{
  "nbformat": 4,
  "nbformat_minor": 0,
  "metadata": {
    "colab": {
      "provenance": [],
      "authorship_tag": "ABX9TyNYgC7ZdSMSyHoFaegDEKdA",
      "include_colab_link": true
    },
    "kernelspec": {
      "name": "python3",
      "display_name": "Python 3"
    },
    "language_info": {
      "name": "python"
    }
  },
  "cells": [
    {
      "cell_type": "markdown",
      "metadata": {
        "id": "view-in-github",
        "colab_type": "text"
      },
      "source": [
        "<a href=\"https://colab.research.google.com/github/cifa17/python/blob/main/dizionari.ipynb\" target=\"_parent\"><img src=\"https://colab.research.google.com/assets/colab-badge.svg\" alt=\"Open In Colab\"/></a>"
      ]
    },
    {
      "cell_type": "markdown",
      "source": [
        "Esercizio 1\n",
        "Creare un dizionario vuoto e assegnarlo a una variabile."
      ],
      "metadata": {
        "id": "jfhgFEW4MxSn"
      }
    },
    {
      "cell_type": "code",
      "execution_count": 1,
      "metadata": {
        "colab": {
          "base_uri": "https://localhost:8080/"
        },
        "id": "2z0nvJPrMwnS",
        "outputId": "8ed34a73-c347-4517-ef84-8fa39787deb0"
      },
      "outputs": [
        {
          "output_type": "stream",
          "name": "stdout",
          "text": [
            "{}\n"
          ]
        }
      ],
      "source": [
        "dizionario_vuoto = {}\n",
        "var=dizionario_vuoto\n",
        "print(var)"
      ]
    },
    {
      "cell_type": "markdown",
      "source": [
        "Esercizio 2\n",
        "Creare un dizionario con le seguenti chiavi e valori: \"nome\" : \"Mario\", \"cognome\" : \"Rossi\", \"età\" : 30."
      ],
      "metadata": {
        "id": "fX15Q-yfM6id"
      }
    },
    {
      "cell_type": "code",
      "source": [
        "dizionario = {\"nome\" : \"Mario\", \"cognome\" : \"Rossi\", \"età\" : 30}\n",
        "var = dizionario\n",
        "print(var)"
      ],
      "metadata": {
        "colab": {
          "base_uri": "https://localhost:8080/"
        },
        "id": "_Riv3h_oM7df",
        "outputId": "b317f694-1a4b-4449-c418-aaebd60bad20"
      },
      "execution_count": 3,
      "outputs": [
        {
          "output_type": "stream",
          "name": "stdout",
          "text": [
            "{'nome': 'Mario', 'cognome': 'Rossi', 'età': 30}\n"
          ]
        }
      ]
    },
    {
      "cell_type": "code",
      "source": [
        "dizionario = {\"nome\" : \"Mario\", \"cognome\" : \"Rossi\", \"età\" : 30}\n",
        "print(dizionario[\"nome\"], dizionario[\"cognome\"], dizionario[\"età\"])"
      ],
      "metadata": {
        "colab": {
          "base_uri": "https://localhost:8080/"
        },
        "id": "lyloiEIANUYC",
        "outputId": "d2eb6d6d-77f9-4a53-c300-650ae8173b9c"
      },
      "execution_count": 18,
      "outputs": [
        {
          "output_type": "stream",
          "name": "stdout",
          "text": [
            "Mario Rossi 30\n"
          ]
        }
      ]
    },
    {
      "cell_type": "markdown",
      "source": [
        "Esercizio 3\n",
        "Accedere al valore dell'elemento con chiave \"età\" del dizionario precedente."
      ],
      "metadata": {
        "id": "67_lftjENxZN"
      }
    },
    {
      "cell_type": "code",
      "source": [
        "print(dizionario[\"età\"])"
      ],
      "metadata": {
        "colab": {
          "base_uri": "https://localhost:8080/"
        },
        "id": "nVoTwezsN0Fd",
        "outputId": "46fefd5f-48c3-4b8e-d6b8-1a53712f08d9"
      },
      "execution_count": 9,
      "outputs": [
        {
          "output_type": "stream",
          "name": "stdout",
          "text": [
            "30\n"
          ]
        }
      ]
    },
    {
      "cell_type": "markdown",
      "source": [
        "Esercizio 4 Aggiungere un nuovo elemento \"email\" con valore \"mario.rossi@email.com\" al dizionario precedente."
      ],
      "metadata": {
        "id": "ZEaBBOY6OPFs"
      }
    },
    {
      "cell_type": "code",
      "source": [
        "dizionario[\"email\"] = \"mario.rossi@email.com\"\n",
        "print(dizionario)"
      ],
      "metadata": {
        "colab": {
          "base_uri": "https://localhost:8080/"
        },
        "id": "u0dDXmzgOQHl",
        "outputId": "72a46c1d-5241-494a-875e-8ee2d21b6ac1"
      },
      "execution_count": 20,
      "outputs": [
        {
          "output_type": "stream",
          "name": "stdout",
          "text": [
            "{'nome': 'Mario', 'cognome': 'Rossi', 'età': 30, 'email': 'mario.rossi@email.com'}\n"
          ]
        }
      ]
    },
    {
      "cell_type": "markdown",
      "source": [
        "Esercizio 5\n",
        "Rimuovere l'elemento con chiave \"cognome\" dal dizionario precedente."
      ],
      "metadata": {
        "id": "HkiTlwH_O0nn"
      }
    },
    {
      "cell_type": "code",
      "source": [
        "del dizionario[\"cognome\"]\n",
        "print(dizionario)"
      ],
      "metadata": {
        "colab": {
          "base_uri": "https://localhost:8080/"
        },
        "id": "wCjHaL0gO414",
        "outputId": "ea5b89a0-92f9-4e41-ca87-c3f8f3aca4bb"
      },
      "execution_count": 21,
      "outputs": [
        {
          "output_type": "stream",
          "name": "stdout",
          "text": [
            "{'nome': 'Mario', 'età': 30, 'email': 'mario.rossi@email.com'}\n"
          ]
        }
      ]
    },
    {
      "cell_type": "markdown",
      "source": [
        "Esercizio 6\n",
        "Creare una nuova lista che contenga solo le chiavi del dizionario precedente."
      ],
      "metadata": {
        "id": "FkgAkxfxO_Z4"
      }
    },
    {
      "cell_type": "code",
      "source": [
        "chiavi = list(dizionario.keys())\n",
        "chiavi"
      ],
      "metadata": {
        "colab": {
          "base_uri": "https://localhost:8080/"
        },
        "id": "Bx0yVhO2PBQZ",
        "outputId": "d4e50cf8-b9ca-4b1a-aeec-49a46e092ebd"
      },
      "execution_count": 22,
      "outputs": [
        {
          "output_type": "execute_result",
          "data": {
            "text/plain": [
              "['nome', 'età', 'email']"
            ]
          },
          "metadata": {},
          "execution_count": 22
        }
      ]
    },
    {
      "cell_type": "markdown",
      "source": [
        "Esercizio 7\n",
        "Creare una nuova lista che contenga solo i valori del dizionario precedente"
      ],
      "metadata": {
        "id": "6Yj3NDXzPldX"
      }
    },
    {
      "cell_type": "code",
      "source": [
        "valori=list(dizionario.values())\n",
        "valori"
      ],
      "metadata": {
        "colab": {
          "base_uri": "https://localhost:8080/"
        },
        "id": "uBdJ13LtPpD6",
        "outputId": "8f07f0a9-d6cb-4b8b-8222-b2a64122f13b"
      },
      "execution_count": 23,
      "outputs": [
        {
          "output_type": "execute_result",
          "data": {
            "text/plain": [
              "['Mario', 30, 'mario.rossi@email.com']"
            ]
          },
          "metadata": {},
          "execution_count": 23
        }
      ]
    },
    {
      "cell_type": "markdown",
      "source": [
        "Esercizio 8\n",
        "Aggiornare il valore dell'elemento con chiave \"età\" del dizionario precedente a 35."
      ],
      "metadata": {
        "id": "522aCVqUP_Za"
      }
    },
    {
      "cell_type": "code",
      "source": [
        "dizionario[\"età\"]=35\n",
        "print(dizionario)"
      ],
      "metadata": {
        "colab": {
          "base_uri": "https://localhost:8080/"
        },
        "id": "iv61jCHsQAiX",
        "outputId": "93487888-5344-43ad-cb5d-bb15faa2d40a"
      },
      "execution_count": 24,
      "outputs": [
        {
          "output_type": "stream",
          "name": "stdout",
          "text": [
            "{'nome': 'Mario', 'età': 35, 'email': 'mario.rossi@email.com'}\n"
          ]
        }
      ]
    },
    {
      "cell_type": "markdown",
      "source": [
        "Esercizio 9\n",
        "Contare il numero di elementi nel dizionario precedente."
      ],
      "metadata": {
        "id": "cV06oiycQYV5"
      }
    },
    {
      "cell_type": "code",
      "source": [
        "numero_elementi = len(dizionario)\n",
        "print(numero_elementi)"
      ],
      "metadata": {
        "colab": {
          "base_uri": "https://localhost:8080/"
        },
        "id": "MOpEUbSOQaFV",
        "outputId": "8d2037cf-b18a-44a4-ddaa-9a93ab8a0b9a"
      },
      "execution_count": 25,
      "outputs": [
        {
          "output_type": "stream",
          "name": "stdout",
          "text": [
            "3\n"
          ]
        }
      ]
    }
  ]
}